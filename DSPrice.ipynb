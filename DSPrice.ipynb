{
  "nbformat": 4,
  "nbformat_minor": 0,
  "metadata": {
    "colab": {
      "provenance": [],
      "collapsed_sections": [
        "6gMcrELaBzuq",
        "8191r8uNEUFn",
        "TsADtrB-jMHC",
        "0ZRawsVEYFTY",
        "55BmfcuhllpU",
        "NiKMKioTbUga"
      ],
      "authorship_tag": "ABX9TyOrV7saoG1WrT8gruBIjx/8"
    },
    "kernelspec": {
      "name": "python3",
      "display_name": "Python 3"
    },
    "language_info": {
      "name": "python"
    }
  },
  "cells": [
    {
      "cell_type": "markdown",
      "source": [
        "# Importing the file and initial checks"
      ],
      "metadata": {
        "id": "6gMcrELaBzuq"
      }
    },
    {
      "cell_type": "code",
      "execution_count": null,
      "metadata": {
        "id": "8uVf4_v011O4"
      },
      "outputs": [],
      "source": [
        "from matplotlib import pyplot as plt\n",
        "import numpy as np\n",
        "import pandas as pd\n",
        "import datetime\n",
        "from scipy.stats import f_oneway, ttest_ind, pearsonr, spearmanr\n",
        "from sklearn.linear_model import LinearRegression\n",
        "import io\n",
        "from google.colab import files\n"
      ]
    },
    {
      "cell_type": "code",
      "source": [
        "uploaded = files.upload() #importing the file in the colab"
      ],
      "metadata": {
        "colab": {
          "base_uri": "https://localhost:8080/",
          "height": 73,
          "resources": {
            "http://localhost:8080/nbextensions/google.colab/files.js": {
              "data": "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",
              "ok": true,
              "headers": [
                [
                  "content-type",
                  "application/javascript"
                ]
              ],
              "status": 200,
              "status_text": "OK"
            }
          }
        },
        "id": "3PXsW_7Z2c6H",
        "outputId": "fc462c86-6b52-4845-df3d-4235724c46c9"
      },
      "execution_count": null,
      "outputs": [
        {
          "output_type": "display_data",
          "data": {
            "text/plain": [
              "<IPython.core.display.HTML object>"
            ],
            "text/html": [
              "\n",
              "     <input type=\"file\" id=\"files-b294cf83-b293-47f7-b2e2-3897429a231a\" name=\"files[]\" multiple disabled\n",
              "        style=\"border:none\" />\n",
              "     <output id=\"result-b294cf83-b293-47f7-b2e2-3897429a231a\">\n",
              "      Upload widget is only available when the cell has been executed in the\n",
              "      current browser session. Please rerun this cell to enable.\n",
              "      </output>\n",
              "      <script src=\"/nbextensions/google.colab/files.js\"></script> "
            ]
          },
          "metadata": {}
        },
        {
          "output_type": "stream",
          "name": "stdout",
          "text": [
            "Saving DS_exercise_price_response.csv to DS_exercise_price_response (1).csv\n"
          ]
        }
      ]
    },
    {
      "cell_type": "code",
      "source": [
        "#reading the uploaded file as a pandas dataframe into the fullData variable\n",
        " \n",
        "fullData = pd.read_csv(io.BytesIO(uploaded[\"DS_exercise_price_response.csv\"]), sep=';', decimal=',')\n",
        "print(fullData.head()) #checking that the file was imported correctly"
      ],
      "metadata": {
        "colab": {
          "base_uri": "https://localhost:8080/"
        },
        "id": "ZktcU4mM1_U8",
        "outputId": "699ad6ec-30e9-4e0c-e4c8-d39a8cb7e964"
      },
      "execution_count": null,
      "outputs": [
        {
          "output_type": "stream",
          "name": "stdout",
          "text": [
            "   Unnamed: 0        date  weekday  X_price pricing_channel  traffic   profit  \\\n",
            "0           1  2022-01-01        6   -0.200               A     1630  1490.00   \n",
            "1           2  2022-01-01        6   -0.100               B     3093  2860.00   \n",
            "2           3  2022-01-02        7   -0.175               A     2312   786.25   \n",
            "3           4  2022-01-02        7   -0.200               B      909   490.00   \n",
            "4           5  2022-01-03        1    0.000               A     2968  3300.00   \n",
            "\n",
            "   profit_per_order  orders  \n",
            "0         27.592593      54  \n",
            "1         31.086957      92  \n",
            "2         15.416667      51  \n",
            "3         23.333333      21  \n",
            "4         42.307692      78  \n"
          ]
        }
      ]
    },
    {
      "cell_type": "code",
      "source": [
        "fullData = fullData.drop('Unnamed: 0', axis = 1) #remove the first column, that is useless\n",
        "fullData.describe() #initial description to familiarize with the dataset, and to check if there is maybe something weird"
      ],
      "metadata": {
        "colab": {
          "base_uri": "https://localhost:8080/",
          "height": 300
        },
        "id": "d3jDCw5NBDCU",
        "outputId": "b1c54458-f763-450e-e0f4-c3c15499abc7"
      },
      "execution_count": null,
      "outputs": [
        {
          "output_type": "execute_result",
          "data": {
            "text/plain": [
              "           weekday      X_price      traffic       profit  profit_per_order  \\\n",
              "count  1000.000000  1000.000000  1000.000000  1000.000000       1000.000000   \n",
              "mean      4.004000     0.000350  2309.899000  1982.560000         39.690787   \n",
              "std       2.005993     0.124189   494.731934   739.756961          9.675142   \n",
              "min       1.000000    -0.200000   867.000000   420.000000         14.418605   \n",
              "25%       2.000000    -0.100000  2001.000000  1404.687500         32.386884   \n",
              "50%       4.000000     0.000000  2311.000000  1921.250000         40.000000   \n",
              "75%       6.000000     0.100000  2608.500000  2475.000000         47.685239   \n",
              "max       7.000000     0.200000  3956.000000  4820.000000         61.012658   \n",
              "\n",
              "            orders  \n",
              "count  1000.000000  \n",
              "mean     51.565000  \n",
              "std      18.693186  \n",
              "min      12.000000  \n",
              "25%      37.000000  \n",
              "50%      51.000000  \n",
              "75%      64.000000  \n",
              "max     134.000000  "
            ],
            "text/html": [
              "\n",
              "  <div id=\"df-b32cf6a3-373c-43bd-80a4-0ce8f7b37625\">\n",
              "    <div class=\"colab-df-container\">\n",
              "      <div>\n",
              "<style scoped>\n",
              "    .dataframe tbody tr th:only-of-type {\n",
              "        vertical-align: middle;\n",
              "    }\n",
              "\n",
              "    .dataframe tbody tr th {\n",
              "        vertical-align: top;\n",
              "    }\n",
              "\n",
              "    .dataframe thead th {\n",
              "        text-align: right;\n",
              "    }\n",
              "</style>\n",
              "<table border=\"1\" class=\"dataframe\">\n",
              "  <thead>\n",
              "    <tr style=\"text-align: right;\">\n",
              "      <th></th>\n",
              "      <th>weekday</th>\n",
              "      <th>X_price</th>\n",
              "      <th>traffic</th>\n",
              "      <th>profit</th>\n",
              "      <th>profit_per_order</th>\n",
              "      <th>orders</th>\n",
              "    </tr>\n",
              "  </thead>\n",
              "  <tbody>\n",
              "    <tr>\n",
              "      <th>count</th>\n",
              "      <td>1000.000000</td>\n",
              "      <td>1000.000000</td>\n",
              "      <td>1000.000000</td>\n",
              "      <td>1000.000000</td>\n",
              "      <td>1000.000000</td>\n",
              "      <td>1000.000000</td>\n",
              "    </tr>\n",
              "    <tr>\n",
              "      <th>mean</th>\n",
              "      <td>4.004000</td>\n",
              "      <td>0.000350</td>\n",
              "      <td>2309.899000</td>\n",
              "      <td>1982.560000</td>\n",
              "      <td>39.690787</td>\n",
              "      <td>51.565000</td>\n",
              "    </tr>\n",
              "    <tr>\n",
              "      <th>std</th>\n",
              "      <td>2.005993</td>\n",
              "      <td>0.124189</td>\n",
              "      <td>494.731934</td>\n",
              "      <td>739.756961</td>\n",
              "      <td>9.675142</td>\n",
              "      <td>18.693186</td>\n",
              "    </tr>\n",
              "    <tr>\n",
              "      <th>min</th>\n",
              "      <td>1.000000</td>\n",
              "      <td>-0.200000</td>\n",
              "      <td>867.000000</td>\n",
              "      <td>420.000000</td>\n",
              "      <td>14.418605</td>\n",
              "      <td>12.000000</td>\n",
              "    </tr>\n",
              "    <tr>\n",
              "      <th>25%</th>\n",
              "      <td>2.000000</td>\n",
              "      <td>-0.100000</td>\n",
              "      <td>2001.000000</td>\n",
              "      <td>1404.687500</td>\n",
              "      <td>32.386884</td>\n",
              "      <td>37.000000</td>\n",
              "    </tr>\n",
              "    <tr>\n",
              "      <th>50%</th>\n",
              "      <td>4.000000</td>\n",
              "      <td>0.000000</td>\n",
              "      <td>2311.000000</td>\n",
              "      <td>1921.250000</td>\n",
              "      <td>40.000000</td>\n",
              "      <td>51.000000</td>\n",
              "    </tr>\n",
              "    <tr>\n",
              "      <th>75%</th>\n",
              "      <td>6.000000</td>\n",
              "      <td>0.100000</td>\n",
              "      <td>2608.500000</td>\n",
              "      <td>2475.000000</td>\n",
              "      <td>47.685239</td>\n",
              "      <td>64.000000</td>\n",
              "    </tr>\n",
              "    <tr>\n",
              "      <th>max</th>\n",
              "      <td>7.000000</td>\n",
              "      <td>0.200000</td>\n",
              "      <td>3956.000000</td>\n",
              "      <td>4820.000000</td>\n",
              "      <td>61.012658</td>\n",
              "      <td>134.000000</td>\n",
              "    </tr>\n",
              "  </tbody>\n",
              "</table>\n",
              "</div>\n",
              "      <button class=\"colab-df-convert\" onclick=\"convertToInteractive('df-b32cf6a3-373c-43bd-80a4-0ce8f7b37625')\"\n",
              "              title=\"Convert this dataframe to an interactive table.\"\n",
              "              style=\"display:none;\">\n",
              "        \n",
              "  <svg xmlns=\"http://www.w3.org/2000/svg\" height=\"24px\"viewBox=\"0 0 24 24\"\n",
              "       width=\"24px\">\n",
              "    <path d=\"M0 0h24v24H0V0z\" fill=\"none\"/>\n",
              "    <path d=\"M18.56 5.44l.94 2.06.94-2.06 2.06-.94-2.06-.94-.94-2.06-.94 2.06-2.06.94zm-11 1L8.5 8.5l.94-2.06 2.06-.94-2.06-.94L8.5 2.5l-.94 2.06-2.06.94zm10 10l.94 2.06.94-2.06 2.06-.94-2.06-.94-.94-2.06-.94 2.06-2.06.94z\"/><path d=\"M17.41 7.96l-1.37-1.37c-.4-.4-.92-.59-1.43-.59-.52 0-1.04.2-1.43.59L10.3 9.45l-7.72 7.72c-.78.78-.78 2.05 0 2.83L4 21.41c.39.39.9.59 1.41.59.51 0 1.02-.2 1.41-.59l7.78-7.78 2.81-2.81c.8-.78.8-2.07 0-2.86zM5.41 20L4 18.59l7.72-7.72 1.47 1.35L5.41 20z\"/>\n",
              "  </svg>\n",
              "      </button>\n",
              "      \n",
              "  <style>\n",
              "    .colab-df-container {\n",
              "      display:flex;\n",
              "      flex-wrap:wrap;\n",
              "      gap: 12px;\n",
              "    }\n",
              "\n",
              "    .colab-df-convert {\n",
              "      background-color: #E8F0FE;\n",
              "      border: none;\n",
              "      border-radius: 50%;\n",
              "      cursor: pointer;\n",
              "      display: none;\n",
              "      fill: #1967D2;\n",
              "      height: 32px;\n",
              "      padding: 0 0 0 0;\n",
              "      width: 32px;\n",
              "    }\n",
              "\n",
              "    .colab-df-convert:hover {\n",
              "      background-color: #E2EBFA;\n",
              "      box-shadow: 0px 1px 2px rgba(60, 64, 67, 0.3), 0px 1px 3px 1px rgba(60, 64, 67, 0.15);\n",
              "      fill: #174EA6;\n",
              "    }\n",
              "\n",
              "    [theme=dark] .colab-df-convert {\n",
              "      background-color: #3B4455;\n",
              "      fill: #D2E3FC;\n",
              "    }\n",
              "\n",
              "    [theme=dark] .colab-df-convert:hover {\n",
              "      background-color: #434B5C;\n",
              "      box-shadow: 0px 1px 3px 1px rgba(0, 0, 0, 0.15);\n",
              "      filter: drop-shadow(0px 1px 2px rgba(0, 0, 0, 0.3));\n",
              "      fill: #FFFFFF;\n",
              "    }\n",
              "  </style>\n",
              "\n",
              "      <script>\n",
              "        const buttonEl =\n",
              "          document.querySelector('#df-b32cf6a3-373c-43bd-80a4-0ce8f7b37625 button.colab-df-convert');\n",
              "        buttonEl.style.display =\n",
              "          google.colab.kernel.accessAllowed ? 'block' : 'none';\n",
              "\n",
              "        async function convertToInteractive(key) {\n",
              "          const element = document.querySelector('#df-b32cf6a3-373c-43bd-80a4-0ce8f7b37625');\n",
              "          const dataTable =\n",
              "            await google.colab.kernel.invokeFunction('convertToInteractive',\n",
              "                                                     [key], {});\n",
              "          if (!dataTable) return;\n",
              "\n",
              "          const docLinkHtml = 'Like what you see? Visit the ' +\n",
              "            '<a target=\"_blank\" href=https://colab.research.google.com/notebooks/data_table.ipynb>data table notebook</a>'\n",
              "            + ' to learn more about interactive tables.';\n",
              "          element.innerHTML = '';\n",
              "          dataTable['output_type'] = 'display_data';\n",
              "          await google.colab.output.renderOutput(dataTable, element);\n",
              "          const docLink = document.createElement('div');\n",
              "          docLink.innerHTML = docLinkHtml;\n",
              "          element.appendChild(docLink);\n",
              "        }\n",
              "      </script>\n",
              "    </div>\n",
              "  </div>\n",
              "  "
            ]
          },
          "metadata": {},
          "execution_count": 5
        }
      ]
    },
    {
      "cell_type": "code",
      "source": [
        "fullData.corr() #initial check of the correlations, again to familiarize"
      ],
      "metadata": {
        "colab": {
          "base_uri": "https://localhost:8080/",
          "height": 237
        },
        "id": "d1IjfyxTg7Cg",
        "outputId": "c8777027-c137-41a9-9d79-b2ce0d573dbc"
      },
      "execution_count": null,
      "outputs": [
        {
          "output_type": "execute_result",
          "data": {
            "text/plain": [
              "                   weekday   X_price   traffic    profit  profit_per_order  \\\n",
              "weekday           1.000000  0.029327  0.018503 -0.193047         -0.265759   \n",
              "X_price           0.029327  1.000000  0.061497  0.227972          0.892500   \n",
              "traffic           0.018503  0.061497  1.000000  0.605201          0.057336   \n",
              "profit           -0.193047  0.227972  0.605201  1.000000          0.326351   \n",
              "profit_per_order -0.265759  0.892500  0.057336  0.326351          1.000000   \n",
              "orders           -0.000728 -0.370166  0.585348  0.735971         -0.354749   \n",
              "\n",
              "                    orders  \n",
              "weekday          -0.000728  \n",
              "X_price          -0.370166  \n",
              "traffic           0.585348  \n",
              "profit            0.735971  \n",
              "profit_per_order -0.354749  \n",
              "orders            1.000000  "
            ],
            "text/html": [
              "\n",
              "  <div id=\"df-e2792e1c-e215-4640-8c93-b126c713f25f\">\n",
              "    <div class=\"colab-df-container\">\n",
              "      <div>\n",
              "<style scoped>\n",
              "    .dataframe tbody tr th:only-of-type {\n",
              "        vertical-align: middle;\n",
              "    }\n",
              "\n",
              "    .dataframe tbody tr th {\n",
              "        vertical-align: top;\n",
              "    }\n",
              "\n",
              "    .dataframe thead th {\n",
              "        text-align: right;\n",
              "    }\n",
              "</style>\n",
              "<table border=\"1\" class=\"dataframe\">\n",
              "  <thead>\n",
              "    <tr style=\"text-align: right;\">\n",
              "      <th></th>\n",
              "      <th>weekday</th>\n",
              "      <th>X_price</th>\n",
              "      <th>traffic</th>\n",
              "      <th>profit</th>\n",
              "      <th>profit_per_order</th>\n",
              "      <th>orders</th>\n",
              "    </tr>\n",
              "  </thead>\n",
              "  <tbody>\n",
              "    <tr>\n",
              "      <th>weekday</th>\n",
              "      <td>1.000000</td>\n",
              "      <td>0.029327</td>\n",
              "      <td>0.018503</td>\n",
              "      <td>-0.193047</td>\n",
              "      <td>-0.265759</td>\n",
              "      <td>-0.000728</td>\n",
              "    </tr>\n",
              "    <tr>\n",
              "      <th>X_price</th>\n",
              "      <td>0.029327</td>\n",
              "      <td>1.000000</td>\n",
              "      <td>0.061497</td>\n",
              "      <td>0.227972</td>\n",
              "      <td>0.892500</td>\n",
              "      <td>-0.370166</td>\n",
              "    </tr>\n",
              "    <tr>\n",
              "      <th>traffic</th>\n",
              "      <td>0.018503</td>\n",
              "      <td>0.061497</td>\n",
              "      <td>1.000000</td>\n",
              "      <td>0.605201</td>\n",
              "      <td>0.057336</td>\n",
              "      <td>0.585348</td>\n",
              "    </tr>\n",
              "    <tr>\n",
              "      <th>profit</th>\n",
              "      <td>-0.193047</td>\n",
              "      <td>0.227972</td>\n",
              "      <td>0.605201</td>\n",
              "      <td>1.000000</td>\n",
              "      <td>0.326351</td>\n",
              "      <td>0.735971</td>\n",
              "    </tr>\n",
              "    <tr>\n",
              "      <th>profit_per_order</th>\n",
              "      <td>-0.265759</td>\n",
              "      <td>0.892500</td>\n",
              "      <td>0.057336</td>\n",
              "      <td>0.326351</td>\n",
              "      <td>1.000000</td>\n",
              "      <td>-0.354749</td>\n",
              "    </tr>\n",
              "    <tr>\n",
              "      <th>orders</th>\n",
              "      <td>-0.000728</td>\n",
              "      <td>-0.370166</td>\n",
              "      <td>0.585348</td>\n",
              "      <td>0.735971</td>\n",
              "      <td>-0.354749</td>\n",
              "      <td>1.000000</td>\n",
              "    </tr>\n",
              "  </tbody>\n",
              "</table>\n",
              "</div>\n",
              "      <button class=\"colab-df-convert\" onclick=\"convertToInteractive('df-e2792e1c-e215-4640-8c93-b126c713f25f')\"\n",
              "              title=\"Convert this dataframe to an interactive table.\"\n",
              "              style=\"display:none;\">\n",
              "        \n",
              "  <svg xmlns=\"http://www.w3.org/2000/svg\" height=\"24px\"viewBox=\"0 0 24 24\"\n",
              "       width=\"24px\">\n",
              "    <path d=\"M0 0h24v24H0V0z\" fill=\"none\"/>\n",
              "    <path d=\"M18.56 5.44l.94 2.06.94-2.06 2.06-.94-2.06-.94-.94-2.06-.94 2.06-2.06.94zm-11 1L8.5 8.5l.94-2.06 2.06-.94-2.06-.94L8.5 2.5l-.94 2.06-2.06.94zm10 10l.94 2.06.94-2.06 2.06-.94-2.06-.94-.94-2.06-.94 2.06-2.06.94z\"/><path d=\"M17.41 7.96l-1.37-1.37c-.4-.4-.92-.59-1.43-.59-.52 0-1.04.2-1.43.59L10.3 9.45l-7.72 7.72c-.78.78-.78 2.05 0 2.83L4 21.41c.39.39.9.59 1.41.59.51 0 1.02-.2 1.41-.59l7.78-7.78 2.81-2.81c.8-.78.8-2.07 0-2.86zM5.41 20L4 18.59l7.72-7.72 1.47 1.35L5.41 20z\"/>\n",
              "  </svg>\n",
              "      </button>\n",
              "      \n",
              "  <style>\n",
              "    .colab-df-container {\n",
              "      display:flex;\n",
              "      flex-wrap:wrap;\n",
              "      gap: 12px;\n",
              "    }\n",
              "\n",
              "    .colab-df-convert {\n",
              "      background-color: #E8F0FE;\n",
              "      border: none;\n",
              "      border-radius: 50%;\n",
              "      cursor: pointer;\n",
              "      display: none;\n",
              "      fill: #1967D2;\n",
              "      height: 32px;\n",
              "      padding: 0 0 0 0;\n",
              "      width: 32px;\n",
              "    }\n",
              "\n",
              "    .colab-df-convert:hover {\n",
              "      background-color: #E2EBFA;\n",
              "      box-shadow: 0px 1px 2px rgba(60, 64, 67, 0.3), 0px 1px 3px 1px rgba(60, 64, 67, 0.15);\n",
              "      fill: #174EA6;\n",
              "    }\n",
              "\n",
              "    [theme=dark] .colab-df-convert {\n",
              "      background-color: #3B4455;\n",
              "      fill: #D2E3FC;\n",
              "    }\n",
              "\n",
              "    [theme=dark] .colab-df-convert:hover {\n",
              "      background-color: #434B5C;\n",
              "      box-shadow: 0px 1px 3px 1px rgba(0, 0, 0, 0.15);\n",
              "      filter: drop-shadow(0px 1px 2px rgba(0, 0, 0, 0.3));\n",
              "      fill: #FFFFFF;\n",
              "    }\n",
              "  </style>\n",
              "\n",
              "      <script>\n",
              "        const buttonEl =\n",
              "          document.querySelector('#df-e2792e1c-e215-4640-8c93-b126c713f25f button.colab-df-convert');\n",
              "        buttonEl.style.display =\n",
              "          google.colab.kernel.accessAllowed ? 'block' : 'none';\n",
              "\n",
              "        async function convertToInteractive(key) {\n",
              "          const element = document.querySelector('#df-e2792e1c-e215-4640-8c93-b126c713f25f');\n",
              "          const dataTable =\n",
              "            await google.colab.kernel.invokeFunction('convertToInteractive',\n",
              "                                                     [key], {});\n",
              "          if (!dataTable) return;\n",
              "\n",
              "          const docLinkHtml = 'Like what you see? Visit the ' +\n",
              "            '<a target=\"_blank\" href=https://colab.research.google.com/notebooks/data_table.ipynb>data table notebook</a>'\n",
              "            + ' to learn more about interactive tables.';\n",
              "          element.innerHTML = '';\n",
              "          dataTable['output_type'] = 'display_data';\n",
              "          await google.colab.output.renderOutput(dataTable, element);\n",
              "          const docLink = document.createElement('div');\n",
              "          docLink.innerHTML = docLinkHtml;\n",
              "          element.appendChild(docLink);\n",
              "        }\n",
              "      </script>\n",
              "    </div>\n",
              "  </div>\n",
              "  "
            ]
          },
          "metadata": {},
          "execution_count": 7
        }
      ]
    },
    {
      "cell_type": "markdown",
      "source": [
        "These are some initial correlations to understand what's going on. We can notice some important stuff. \n",
        "\n",
        "We notice a strong correlation between the X_price and the profit_per_order. Yet a low correlation between X_profit and profit. Since our aim is to maximize profit, then this is an important point to adress.\n",
        "\n",
        "Likewise there is a good correlation between orders and profit, likely because the more the orders the more the profit.\n",
        "\n",
        "Another point is that there is a positive medium correlation between traffic and number of orders. \n",
        "\n",
        "We will adress these points, and more, in the following sections."
      ],
      "metadata": {
        "id": "Oii-KBFAhKVz"
      }
    },
    {
      "cell_type": "markdown",
      "source": [
        "#First plots of the dataframe\n",
        "This (boring) section is to check the histograms and plots of the various columns of the dataframe. This is something I do to visually check for normality (which is an important assumption to have), and to spot if there is anything weird. There are statistical tests to do this too, but in my experience a visual check suffices, plus in this way one can maybe gather information about the distribution if it is not normal. I suggest to collapse this section (and the next ones) when done, so to not clutter the colab notebook."
      ],
      "metadata": {
        "id": "8191r8uNEUFn"
      }
    },
    {
      "cell_type": "code",
      "source": [
        "fullData['traffic'].plot.hist() #histogram of the traffic"
      ],
      "metadata": {
        "colab": {
          "base_uri": "https://localhost:8080/",
          "height": 283
        },
        "id": "gqNiPfTaETzZ",
        "outputId": "1e5c2a94-88b7-4fa7-9dd5-62e46e25a134"
      },
      "execution_count": null,
      "outputs": [
        {
          "output_type": "execute_result",
          "data": {
            "text/plain": [
              "<matplotlib.axes._subplots.AxesSubplot at 0x7f0ea4052910>"
            ]
          },
          "metadata": {},
          "execution_count": 16
        },
        {
          "output_type": "display_data",
          "data": {
            "text/plain": [
              "<Figure size 432x288 with 1 Axes>"
            ],
            "image/png": "[encoded data removed]"
          },
          "metadata": {
            "needs_background": "light"
          }
        }
      ]
    },
    {
      "cell_type": "code",
      "source": [
        "fullData['profit'].plot.hist() #histogram of the profit"
      ],
      "metadata": {
        "colab": {
          "base_uri": "https://localhost:8080/",
          "height": 283
        },
        "id": "OlclV2GOcRH7",
        "outputId": "66be0e5e-e1ff-4c61-d827-694870b4c64f"
      },
      "execution_count": null,
      "outputs": [
        {
          "output_type": "execute_result",
          "data": {
            "text/plain": [
              "<matplotlib.axes._subplots.AxesSubplot at 0x7f0ea3f00b10>"
            ]
          },
          "metadata": {},
          "execution_count": 17
        },
        {
          "output_type": "display_data",
          "data": {
            "text/plain": [
              "<Figure size 432x288 with 1 Axes>"
            ],
            "image/png": "[encoded data removed]"
          },
          "metadata": {
            "needs_background": "light"
          }
        }
      ]
    },
    {
      "cell_type": "markdown",
      "source": [
        "The histogram of the profits looks a bit weird, but for now I'll assume that it is just a truncated gaussian. As for why it is truncated, my guess would be that there is always some minimum of orders, and thus of profits. "
      ],
      "metadata": {
        "id": "9QK5vhIUcb1z"
      }
    },
    {
      "cell_type": "code",
      "source": [
        "fullData['orders'].plot.hist() #histogram of the orders"
      ],
      "metadata": {
        "colab": {
          "base_uri": "https://localhost:8080/",
          "height": 283
        },
        "id": "bth5ZxnNcYok",
        "outputId": "fc5a626c-f561-4a79-b2f6-e406d87aed85"
      },
      "execution_count": null,
      "outputs": [
        {
          "output_type": "execute_result",
          "data": {
            "text/plain": [
              "<matplotlib.axes._subplots.AxesSubplot at 0x7f0ea3856690>"
            ]
          },
          "metadata": {},
          "execution_count": 18
        },
        {
          "output_type": "display_data",
          "data": {
            "text/plain": [
              "<Figure size 432x288 with 1 Axes>"
            ],
            "image/png": "[encoded data removed]"
          },
          "metadata": {
            "needs_background": "light"
          }
        }
      ]
    },
    {
      "cell_type": "markdown",
      "source": [
        "Similar weirdness as before, but it makes sense since profits and orders are correlated."
      ],
      "metadata": {
        "id": "3gOPTPrvctxe"
      }
    },
    {
      "cell_type": "code",
      "source": [
        "fullData['X_price'].value_counts().plot(kind='bar') #histogram of the increases in price"
      ],
      "metadata": {
        "colab": {
          "base_uri": "https://localhost:8080/",
          "height": 306
        },
        "id": "lCsUpEdbdMXK",
        "outputId": "9fc6d2a0-8926-442a-a849-d9f3062abf38"
      },
      "execution_count": null,
      "outputs": [
        {
          "output_type": "execute_result",
          "data": {
            "text/plain": [
              "<matplotlib.axes._subplots.AxesSubplot at 0x7f0ea3364850>"
            ]
          },
          "metadata": {},
          "execution_count": 27
        },
        {
          "output_type": "display_data",
          "data": {
            "text/plain": [
              "<Figure size 432x288 with 1 Axes>"
            ],
            "image/png": "[encoded data removed]"
          },
          "metadata": {
            "needs_background": "light"
          }
        }
      ]
    },
    {
      "cell_type": "markdown",
      "source": [
        "Good to know that the increases in price follow a more or less uniform distribution, although one could argue that there wasn't enough sampling for some values (like +/- 0.125). But this is a very minor point in my opinion. "
      ],
      "metadata": {
        "id": "z21Ds1pidVUi"
      }
    },
    {
      "cell_type": "code",
      "source": [
        "fullData['weekday'].value_counts().plot(kind='bar') #histogram of the weekday"
      ],
      "metadata": {
        "colab": {
          "base_uri": "https://localhost:8080/",
          "height": 280
        },
        "id": "Ly9owJj_d9tU",
        "outputId": "2eb7776e-d081-4327-aae8-cc557859d132"
      },
      "execution_count": null,
      "outputs": [
        {
          "output_type": "execute_result",
          "data": {
            "text/plain": [
              "<matplotlib.axes._subplots.AxesSubplot at 0x7f0ea3477490>"
            ]
          },
          "metadata": {},
          "execution_count": 25
        },
        {
          "output_type": "display_data",
          "data": {
            "text/plain": [
              "<Figure size 432x288 with 1 Axes>"
            ],
            "image/png": "[encoded data removed]"
          },
          "metadata": {
            "needs_background": "light"
          }
        }
      ]
    },
    {
      "cell_type": "markdown",
      "source": [
        "Similarly for the weekday, it's good that there was good sampling"
      ],
      "metadata": {
        "id": "1jswTDEKeFJP"
      }
    },
    {
      "cell_type": "code",
      "source": [
        "fullData['pricing_channel'].value_counts().plot(kind='bar') #histogram of the pricing channels"
      ],
      "metadata": {
        "colab": {
          "base_uri": "https://localhost:8080/",
          "height": 280
        },
        "id": "vHiZ32hreU0W",
        "outputId": "91cb7d59-ac14-491e-adb7-039ff9594132"
      },
      "execution_count": null,
      "outputs": [
        {
          "output_type": "execute_result",
          "data": {
            "text/plain": [
              "<matplotlib.axes._subplots.AxesSubplot at 0x7f0ea33e4650>"
            ]
          },
          "metadata": {},
          "execution_count": 26
        },
        {
          "output_type": "display_data",
          "data": {
            "text/plain": [
              "<Figure size 432x288 with 1 Axes>"
            ],
            "image/png": "[encoded data removed]"
          },
          "metadata": {
            "needs_background": "light"
          }
        }
      ]
    },
    {
      "cell_type": "markdown",
      "source": [
        "Same as before. "
      ],
      "metadata": {
        "id": "czSDOqNuesOv"
      }
    },
    {
      "cell_type": "markdown",
      "source": [
        "Given that our independent variable is X_price, but that we also want to segment the customers based on the day of the week and pricing channel, we want to make sure that there was good assigment of X_prices to the various days of the week/channels"
      ],
      "metadata": {
        "id": "IOCWLwcgIKZ6"
      }
    },
    {
      "cell_type": "code",
      "source": [
        "fullData.boxplot(by =['weekday','pricing_channel'], column =['X_price'], grid = False, rot=-45) #boxplots for the profit per order"
      ],
      "metadata": {
        "colab": {
          "base_uri": "https://localhost:8080/",
          "height": 391
        },
        "id": "ztPuKTiGIGWn",
        "outputId": "2402954f-09b5-4bd6-cff7-4ae982799ecf"
      },
      "execution_count": null,
      "outputs": [
        {
          "output_type": "stream",
          "name": "stderr",
          "text": [
            "/usr/local/lib/python3.7/dist-packages/matplotlib/cbook/__init__.py:1376: VisibleDeprecationWarning: Creating an ndarray from ragged nested sequences (which is a list-or-tuple of lists-or-tuples-or ndarrays with different lengths or shapes) is deprecated. If you meant to do this, you must specify 'dtype=object' when creating the ndarray.\n",
            "  X = np.atleast_1d(X.T if isinstance(X, np.ndarray) else np.asarray(X))\n"
          ]
        },
        {
          "output_type": "execute_result",
          "data": {
            "text/plain": [
              "<matplotlib.axes._subplots.AxesSubplot at 0x7f5ee2e01150>"
            ]
          },
          "metadata": {},
          "execution_count": 13
        },
        {
          "output_type": "display_data",
          "data": {
            "text/plain": [
              "<Figure size 432x288 with 1 Axes>"
            ],
            "image/png": "[encoded data removed]"
          },
          "metadata": {
            "needs_background": "light"
          }
        }
      ]
    },
    {
      "cell_type": "markdown",
      "source": [
        "Looks good so far! Although one should keep in mind that there was some difference between day 5A and 5B in terms of X_price received (5A received slightly lower prices) \n",
        "\n",
        "For now, the boring conclusion is that the data looks good so far. This concludes this section."
      ],
      "metadata": {
        "id": "yYbLYpamI55a"
      }
    },
    {
      "cell_type": "markdown",
      "source": [
        "# How to deal with the date column\n",
        "The date data could be useful: maybe there are more people shopping during some months (like december) so let's quickly check if that's true.\n",
        "Spoiler alert: I found nothing, so this section is skippable in principle, but in my opinion it is still an important part of the process of data inquiry."
      ],
      "metadata": {
        "id": "TsADtrB-jMHC"
      }
    },
    {
      "cell_type": "code",
      "source": [
        "# this is some python magic to add a column with the months, taken from the column 'date'. This is done to check for seasonal effects\n",
        "fullData['month'] = fullData.apply(lambda row : datetime.datetime.strptime(row['date'],\"%Y-%m-%d\").strftime(\"%b\"),axis=1)\n",
        "print(fullData.head())"
      ],
      "metadata": {
        "colab": {
          "base_uri": "https://localhost:8080/"
        },
        "id": "QmpA7S2i1CW0",
        "outputId": "d2ed016a-04a5-46b1-fcfe-b1ef9b8b20e2"
      },
      "execution_count": null,
      "outputs": [
        {
          "output_type": "stream",
          "name": "stdout",
          "text": [
            "         date  weekday  X_price pricing_channel  traffic   profit  \\\n",
            "0  2022-01-01        6   -0.200               A     1630  1490.00   \n",
            "1  2022-01-01        6   -0.100               B     3093  2860.00   \n",
            "2  2022-01-02        7   -0.175               A     2312   786.25   \n",
            "3  2022-01-02        7   -0.200               B      909   490.00   \n",
            "4  2022-01-03        1    0.000               A     2968  3300.00   \n",
            "\n",
            "   profit_per_order  orders month  \n",
            "0         27.592593      54   Jan  \n",
            "1         31.086957      92   Jan  \n",
            "2         15.416667      51   Jan  \n",
            "3         23.333333      21   Jan  \n",
            "4         42.307692      78   Jan  \n"
          ]
        }
      ]
    },
    {
      "cell_type": "markdown",
      "source": [
        "With this new column we can now print boxlots to check if we find some effects."
      ],
      "metadata": {
        "id": "m3qb31Qs1g1s"
      }
    },
    {
      "cell_type": "code",
      "source": [
        "fullData.boxplot(by ='month', column =['traffic'], grid = False) #boxplots of the traffic by months"
      ],
      "metadata": {
        "colab": {
          "base_uri": "https://localhost:8080/",
          "height": 374
        },
        "id": "SdCJt0nA1Dyl",
        "outputId": "2ea87ba5-1569-4538-d336-cb70ad9c4414"
      },
      "execution_count": null,
      "outputs": [
        {
          "output_type": "stream",
          "name": "stderr",
          "text": [
            "/usr/local/lib/python3.7/dist-packages/matplotlib/cbook/__init__.py:1376: VisibleDeprecationWarning: Creating an ndarray from ragged nested sequences (which is a list-or-tuple of lists-or-tuples-or ndarrays with different lengths or shapes) is deprecated. If you meant to do this, you must specify 'dtype=object' when creating the ndarray.\n",
            "  X = np.atleast_1d(X.T if isinstance(X, np.ndarray) else np.asarray(X))\n"
          ]
        },
        {
          "output_type": "execute_result",
          "data": {
            "text/plain": [
              "<matplotlib.axes._subplots.AxesSubplot at 0x7f7772f93fd0>"
            ]
          },
          "metadata": {},
          "execution_count": 7
        },
        {
          "output_type": "display_data",
          "data": {
            "text/plain": [
              "<Figure size 432x288 with 1 Axes>"
            ],
            "image/png": "[encoded data removed]"
          },
          "metadata": {
            "needs_background": "light"
          }
        }
      ]
    },
    {
      "cell_type": "code",
      "source": [
        "fullData.boxplot(by ='month', column =['profit'], grid = False) #boxplots of the profit by months"
      ],
      "metadata": {
        "colab": {
          "base_uri": "https://localhost:8080/",
          "height": 374
        },
        "id": "lLfhihs92da7",
        "outputId": "97ecbce9-2bfc-469e-c536-cc6b88854803"
      },
      "execution_count": null,
      "outputs": [
        {
          "output_type": "stream",
          "name": "stderr",
          "text": [
            "/usr/local/lib/python3.7/dist-packages/matplotlib/cbook/__init__.py:1376: VisibleDeprecationWarning: Creating an ndarray from ragged nested sequences (which is a list-or-tuple of lists-or-tuples-or ndarrays with different lengths or shapes) is deprecated. If you meant to do this, you must specify 'dtype=object' when creating the ndarray.\n",
            "  X = np.atleast_1d(X.T if isinstance(X, np.ndarray) else np.asarray(X))\n"
          ]
        },
        {
          "output_type": "execute_result",
          "data": {
            "text/plain": [
              "<matplotlib.axes._subplots.AxesSubplot at 0x7f7774ff8710>"
            ]
          },
          "metadata": {},
          "execution_count": 8
        },
        {
          "output_type": "display_data",
          "data": {
            "text/plain": [
              "<Figure size 432x288 with 1 Axes>"
            ],
            "image/png": "[encoded data removed]"
          },
          "metadata": {
            "needs_background": "light"
          }
        }
      ]
    },
    {
      "cell_type": "code",
      "source": [
        "fullData.boxplot(by ='month', column =['profit_per_order'], grid = False) #boxplots of the profit per order by months"
      ],
      "metadata": {
        "colab": {
          "base_uri": "https://localhost:8080/",
          "height": 374
        },
        "id": "SkT13o9c2iMp",
        "outputId": "d92ab3cf-6625-4094-f763-aaf2653fa09c"
      },
      "execution_count": null,
      "outputs": [
        {
          "output_type": "stream",
          "name": "stderr",
          "text": [
            "/usr/local/lib/python3.7/dist-packages/matplotlib/cbook/__init__.py:1376: VisibleDeprecationWarning: Creating an ndarray from ragged nested sequences (which is a list-or-tuple of lists-or-tuples-or ndarrays with different lengths or shapes) is deprecated. If you meant to do this, you must specify 'dtype=object' when creating the ndarray.\n",
            "  X = np.atleast_1d(X.T if isinstance(X, np.ndarray) else np.asarray(X))\n"
          ]
        },
        {
          "output_type": "execute_result",
          "data": {
            "text/plain": [
              "<matplotlib.axes._subplots.AxesSubplot at 0x7f777279d8d0>"
            ]
          },
          "metadata": {},
          "execution_count": 9
        },
        {
          "output_type": "display_data",
          "data": {
            "text/plain": [
              "<Figure size 432x288 with 1 Axes>"
            ],
            "image/png": "[encoded data removed]"
          },
          "metadata": {
            "needs_background": "light"
          }
        }
      ]
    },
    {
      "cell_type": "markdown",
      "source": [
        "Hmm the boxplots seem to not be able to find any difference!\n",
        "In fact, even checking with some more rigourous statistics, this appears to be the same:"
      ],
      "metadata": {
        "id": "o2nKXK-M4FdW"
      }
    },
    {
      "cell_type": "code",
      "source": [
        "#ANOVA between months, to check if there is any difference between the months in terms of the profits\n",
        "groupedDF = fullData.groupby('month') #we group the data by month\n",
        "\n",
        "ProfitByMonths = [dataset['profit'] for _, dataset in groupedDF] #ProfitByMonth is a list of the profits for each month\n",
        "\n",
        "F, p = f_oneway(*ProfitByMonths) #performing an anova test \n",
        "print(F, p) #printing the F statistic and the p-value"
      ],
      "metadata": {
        "colab": {
          "base_uri": "https://localhost:8080/"
        },
        "id": "9oGc_Lia2jiO",
        "outputId": "17907ec9-fbba-4e40-f48e-80003d40c00b"
      },
      "execution_count": null,
      "outputs": [
        {
          "output_type": "stream",
          "name": "stdout",
          "text": [
            "0.201201982119638 0.9975576411483287\n"
          ]
        }
      ]
    },
    {
      "cell_type": "markdown",
      "source": [
        "Huge p-value, so we are almost sure there is no difference. One could claim that we should check for the assumptions of the ANOVA test:"
      ],
      "metadata": {
        "id": "WeiUUz9D_3t_"
      }
    },
    {
      "cell_type": "code",
      "source": [
        "#if one wants to nitpick, before performing an anova one should check for normality of the groups checked. \n",
        "#Likewise one should check if the groups have same variance\n",
        "#this can be done with the following:\n",
        "ProfitByMonths[0].plot.hist()\n",
        "variances = list(map(lambda x : x.var(), ProfitByMonths))"
      ],
      "metadata": {
        "colab": {
          "base_uri": "https://localhost:8080/",
          "height": 265
        },
        "id": "Pi_rWnYFAIoH",
        "outputId": "6f6013c2-fd5c-470f-8a91-66683b6fb966"
      },
      "execution_count": null,
      "outputs": [
        {
          "output_type": "display_data",
          "data": {
            "text/plain": [
              "<Figure size 432x288 with 1 Axes>"
            ],
            "image/png": "[encoded data removed]"
          },
          "metadata": {
            "needs_background": "light"
          }
        }
      ]
    },
    {
      "cell_type": "markdown",
      "source": [
        "Good! And if one would want to reallynitpick, one could do tests for the specific months, with a t-test:"
      ],
      "metadata": {
        "id": "lAnblrt_ICLC"
      }
    },
    {
      "cell_type": "code",
      "source": [
        "cat1 = fullData[fullData['month'] == 'Dec']#data for the month of Dec\n",
        "cat2 = fullData[fullData['month'] == 'Aug']#data for the month of Aug\n",
        "\n",
        "ttest_ind(cat1['profit'], cat2['profit']) #t-test for a difference in profits for the data of Dec and Aug"
      ],
      "metadata": {
        "colab": {
          "base_uri": "https://localhost:8080/"
        },
        "id": "1fjaqXbgL2nS",
        "outputId": "97d66632-f9ca-4937-bb8b-8dc6df89abac"
      },
      "execution_count": null,
      "outputs": [
        {
          "output_type": "execute_result",
          "data": {
            "text/plain": [
              "Ttest_indResult(statistic=0.5963851711785991, pvalue=0.5520229391380866)"
            ]
          },
          "metadata": {},
          "execution_count": 21
        }
      ]
    },
    {
      "cell_type": "markdown",
      "source": [
        "Still no difference! Let's check a final hypothesis: maybe the months impact the channels used"
      ],
      "metadata": {
        "id": "fP672-ENMm-M"
      }
    },
    {
      "cell_type": "code",
      "source": [
        "fullData.boxplot(by =['month','pricing_channel'], column =['orders'], grid = False, rot=-45)"
      ],
      "metadata": {
        "colab": {
          "base_uri": "https://localhost:8080/",
          "height": 401
        },
        "id": "2tz2v0HQNEGR",
        "outputId": "18f36f9c-27db-4471-aaf3-4fd9b7994090"
      },
      "execution_count": null,
      "outputs": [
        {
          "output_type": "stream",
          "name": "stderr",
          "text": [
            "/usr/local/lib/python3.7/dist-packages/matplotlib/cbook/__init__.py:1376: VisibleDeprecationWarning: Creating an ndarray from ragged nested sequences (which is a list-or-tuple of lists-or-tuples-or ndarrays with different lengths or shapes) is deprecated. If you meant to do this, you must specify 'dtype=object' when creating the ndarray.\n",
            "  X = np.atleast_1d(X.T if isinstance(X, np.ndarray) else np.asarray(X))\n"
          ]
        },
        {
          "output_type": "execute_result",
          "data": {
            "text/plain": [
              "<matplotlib.axes._subplots.AxesSubplot at 0x7f776e6ba210>"
            ]
          },
          "metadata": {},
          "execution_count": 53
        },
        {
          "output_type": "display_data",
          "data": {
            "text/plain": [
              "<Figure size 432x288 with 1 Axes>"
            ],
            "image/png": "[encoded data removed]"
          },
          "metadata": {
            "needs_background": "light"
          }
        }
      ]
    },
    {
      "cell_type": "code",
      "source": [
        "fullData.boxplot(by =['month','pricing_channel'], column =['traffic'], grid = False, rot=-45)"
      ],
      "metadata": {
        "colab": {
          "base_uri": "https://localhost:8080/",
          "height": 401
        },
        "id": "SlSRMoDJN_zz",
        "outputId": "b9868b17-e4ec-489e-c2c7-c9a507baf6dc"
      },
      "execution_count": null,
      "outputs": [
        {
          "output_type": "stream",
          "name": "stderr",
          "text": [
            "/usr/local/lib/python3.7/dist-packages/matplotlib/cbook/__init__.py:1376: VisibleDeprecationWarning: Creating an ndarray from ragged nested sequences (which is a list-or-tuple of lists-or-tuples-or ndarrays with different lengths or shapes) is deprecated. If you meant to do this, you must specify 'dtype=object' when creating the ndarray.\n",
            "  X = np.atleast_1d(X.T if isinstance(X, np.ndarray) else np.asarray(X))\n"
          ]
        },
        {
          "output_type": "execute_result",
          "data": {
            "text/plain": [
              "<matplotlib.axes._subplots.AxesSubplot at 0x7f776ebe6110>"
            ]
          },
          "metadata": {},
          "execution_count": 48
        },
        {
          "output_type": "display_data",
          "data": {
            "text/plain": [
              "<Figure size 432x288 with 1 Axes>"
            ],
            "image/png": "[encoded data removed]"
          },
          "metadata": {
            "needs_background": "light"
          }
        }
      ]
    },
    {
      "cell_type": "markdown",
      "source": [
        "Okay, in this last case we find that there might be something going on between pricing channel A in August and pricing channel B in August. Yet an anova finds nothing overall. \n"
      ],
      "metadata": {
        "id": "u517OHpbOHP-"
      }
    },
    {
      "cell_type": "code",
      "source": [
        "#ANOVA between months and pricing_channel, to check if there is any difference between the months in terms of the profits\n",
        "groupedDF = fullData.groupby(['month', 'pricing_channel']) #we group the data by month and pricing channel\n",
        "\n",
        "ProfitByMonths = [dataset['traffic'] for _, dataset in groupedDF] #ProfitByMonth is a list of the profits for each month\n",
        "\n",
        "F, p = f_oneway(*ProfitByMonths) #performing an anova test \n",
        "print(F, p) #printing the F statistic and the p-value"
      ],
      "metadata": {
        "colab": {
          "base_uri": "https://localhost:8080/"
        },
        "id": "7ykwpTedOiFA",
        "outputId": "ac8cafe4-1d80-441b-9e91-d7f839476c0a"
      },
      "execution_count": null,
      "outputs": [
        {
          "output_type": "stream",
          "name": "stdout",
          "text": [
            "0.9575915070745089 0.5194576680041458\n"
          ]
        }
      ]
    },
    {
      "cell_type": "markdown",
      "source": [
        "A t-test would find a difference between these categories, but we made so many tests that this is would likely be due to chance. At this point I would maybe ask someone who worked with the dataset if this hypothesis of difference makes sense. For now, we discard the hypothesis."
      ],
      "metadata": {
        "id": "9wVaPVGSeQAr"
      }
    },
    {
      "cell_type": "code",
      "source": [
        "AugData = fullData[fullData['month'] == 'Aug'] #data for the month of Aug\n",
        "cat1 = AugData[AugData['pricing_channel'] == 'A'] #data for the pricing channel A for august\n",
        "cat2 = AugData[AugData['pricing_channel'] == 'B'] #data for the pricing channel B for august\n",
        "\n",
        "ttest_ind(cat1['traffic'], cat2['traffic']) #t-test for a difference in traffic "
      ],
      "metadata": {
        "colab": {
          "base_uri": "https://localhost:8080/"
        },
        "id": "94Cs4MMJc--t",
        "outputId": "784fee7e-77cd-461d-e491-185c32316c9a"
      },
      "execution_count": null,
      "outputs": [
        {
          "output_type": "execute_result",
          "data": {
            "text/plain": [
              "Ttest_indResult(statistic=-3.440887591200226, pvalue=0.0010614131582783286)"
            ]
          },
          "metadata": {},
          "execution_count": 54
        }
      ]
    },
    {
      "cell_type": "markdown",
      "source": [
        "We can also analyse profit like this, and would find nothing. \n",
        "\n",
        "We could do more tests, but for me this is enough to probably conclude that we can likely throw out the date column from the next considerations about the dataset. This concludes this section. "
      ],
      "metadata": {
        "id": "rhuklN5ROhmd"
      }
    },
    {
      "cell_type": "markdown",
      "source": [
        "# A first look at the weekday and pricing channels\n",
        "\n",
        "Our customers might be segmented based on the day of shopping and on the pricing channel. So we should give a look at the boxplots of each of the 14 classes (7 days of a week X 2 channels).\n"
      ],
      "metadata": {
        "id": "0ZRawsVEYFTY"
      }
    },
    {
      "cell_type": "code",
      "source": [
        "fullData.boxplot(by =['weekday','pricing_channel'], column =['traffic'], grid = False, rot=-45) #boxplots for the traffic"
      ],
      "metadata": {
        "colab": {
          "base_uri": "https://localhost:8080/",
          "height": 391
        },
        "id": "C7BAPmA3Y6TW",
        "outputId": "74d21d52-681e-474d-ab3a-4bbc3b300c72"
      },
      "execution_count": null,
      "outputs": [
        {
          "output_type": "stream",
          "name": "stderr",
          "text": [
            "/usr/local/lib/python3.7/dist-packages/matplotlib/cbook/__init__.py:1376: VisibleDeprecationWarning: Creating an ndarray from ragged nested sequences (which is a list-or-tuple of lists-or-tuples-or ndarrays with different lengths or shapes) is deprecated. If you meant to do this, you must specify 'dtype=object' when creating the ndarray.\n",
            "  X = np.atleast_1d(X.T if isinstance(X, np.ndarray) else np.asarray(X))\n"
          ]
        },
        {
          "output_type": "execute_result",
          "data": {
            "text/plain": [
              "<matplotlib.axes._subplots.AxesSubplot at 0x7f5ee4053750>"
            ]
          },
          "metadata": {},
          "execution_count": 9
        },
        {
          "output_type": "display_data",
          "data": {
            "text/plain": [
              "<Figure size 432x288 with 1 Axes>"
            ],
            "image/png": "[encoded data removed]"
          },
          "metadata": {
            "needs_background": "light"
          }
        }
      ]
    },
    {
      "cell_type": "code",
      "source": [
        "fullData.boxplot(by =['weekday','pricing_channel'], column =['orders'], grid = False, rot=-45) #boxplots for the orders"
      ],
      "metadata": {
        "colab": {
          "base_uri": "https://localhost:8080/",
          "height": 391
        },
        "id": "ox8FTCn_fCE0",
        "outputId": "45b4c685-44b0-44ac-eaad-7bae782f506d"
      },
      "execution_count": null,
      "outputs": [
        {
          "output_type": "stream",
          "name": "stderr",
          "text": [
            "/usr/local/lib/python3.7/dist-packages/matplotlib/cbook/__init__.py:1376: VisibleDeprecationWarning: Creating an ndarray from ragged nested sequences (which is a list-or-tuple of lists-or-tuples-or ndarrays with different lengths or shapes) is deprecated. If you meant to do this, you must specify 'dtype=object' when creating the ndarray.\n",
            "  X = np.atleast_1d(X.T if isinstance(X, np.ndarray) else np.asarray(X))\n"
          ]
        },
        {
          "output_type": "execute_result",
          "data": {
            "text/plain": [
              "<matplotlib.axes._subplots.AxesSubplot at 0x7f776e407f10>"
            ]
          },
          "metadata": {},
          "execution_count": 55
        },
        {
          "output_type": "display_data",
          "data": {
            "text/plain": [
              "<Figure size 432x288 with 1 Axes>"
            ],
            "image/png": "[encoded data removed]"
          },
          "metadata": {
            "needs_background": "light"
          }
        }
      ]
    },
    {
      "cell_type": "code",
      "source": [
        "fullData.boxplot(by =['weekday','pricing_channel'], column =['profit'], grid = False, rot=-45) #boxplots for the profit"
      ],
      "metadata": {
        "colab": {
          "base_uri": "https://localhost:8080/",
          "height": 391
        },
        "id": "KqIDtA1AfGKq",
        "outputId": "a31738da-9beb-4610-942b-4e9871c1e60d"
      },
      "execution_count": null,
      "outputs": [
        {
          "output_type": "stream",
          "name": "stderr",
          "text": [
            "/usr/local/lib/python3.7/dist-packages/matplotlib/cbook/__init__.py:1376: VisibleDeprecationWarning: Creating an ndarray from ragged nested sequences (which is a list-or-tuple of lists-or-tuples-or ndarrays with different lengths or shapes) is deprecated. If you meant to do this, you must specify 'dtype=object' when creating the ndarray.\n",
            "  X = np.atleast_1d(X.T if isinstance(X, np.ndarray) else np.asarray(X))\n"
          ]
        },
        {
          "output_type": "execute_result",
          "data": {
            "text/plain": [
              "<matplotlib.axes._subplots.AxesSubplot at 0x7f776e3c53d0>"
            ]
          },
          "metadata": {},
          "execution_count": 56
        },
        {
          "output_type": "display_data",
          "data": {
            "text/plain": [
              "<Figure size 432x288 with 1 Axes>"
            ],
            "image/png": "[encoded data removed]"
          },
          "metadata": {
            "needs_background": "light"
          }
        }
      ]
    },
    {
      "cell_type": "markdown",
      "source": [
        "One should wonder if there are differences between the channels for each days. This is done with the following test, where no differences were found. (Although some trend for a difference in channels for the first day is noticeable)"
      ],
      "metadata": {
        "id": "aqu7n1kEiQtN"
      }
    },
    {
      "cell_type": "code",
      "source": [
        "groupedSeg = fullData.groupby(['weekday','pricing_channel']) #grouping the data by weekday and pricing channel\n",
        "OrdersBySeg = [dataset['orders'] for _, dataset in groupedSeg] #putting in a list all the orders for each of the 14 groups\n",
        "\n",
        "#performing a t-test between the pricing channels of each day\n",
        "for i in range(0,7):\n",
        "  print(ttest_ind(OrdersBySeg[i*2], OrdersBySeg[(i*2)+1]))\n",
        "   "
      ],
      "metadata": {
        "colab": {
          "base_uri": "https://localhost:8080/"
        },
        "id": "beFJKd-lwsnA",
        "outputId": "7aa9444a-3f41-468e-e904-eafbdf2744e9"
      },
      "execution_count": null,
      "outputs": [
        {
          "output_type": "stream",
          "name": "stdout",
          "text": [
            "Ttest_indResult(statistic=-1.8577760871405518, pvalue=0.06527176539341425)\n",
            "Ttest_indResult(statistic=-0.4739512267577849, pvalue=0.6362730014074127)\n",
            "Ttest_indResult(statistic=-0.2063302679551287, pvalue=0.8368326964877901)\n",
            "Ttest_indResult(statistic=1.541559057665784, pvalue=0.12543808386541164)\n",
            "Ttest_indResult(statistic=1.4257122955522352, pvalue=0.1561772697562986)\n",
            "Ttest_indResult(statistic=0.010064829244484883, pvalue=0.9919836902107939)\n",
            "Ttest_indResult(statistic=-1.0401218658549587, pvalue=0.3000510302969262)\n"
          ]
        }
      ]
    },
    {
      "cell_type": "markdown",
      "source": [
        "Given all of this we can conclude the following:\n",
        "\n",
        "1.   The traffic is the same along all days of the week (to be sure, this can be checked with an anova, like before).\n",
        "2.   The orders (and subsequently the profits) seem to depend on the day of the week.\n",
        "3.   There seem to be no differences between the channels for each day.  \n",
        "4.   Given these facts it makes sense to further investigate the relationship between the X_price and the other columns by separating by day and channel. \n",
        "\n"
      ],
      "metadata": {
        "id": "IpqUxQ-rxQh-"
      }
    },
    {
      "cell_type": "markdown",
      "source": [
        "# Correlations and plots of the orders\n",
        "\n",
        "In here we will group again by day and channel, and analyze if we can spot some trends regarding the orders"
      ],
      "metadata": {
        "id": "55BmfcuhllpU"
      }
    },
    {
      "cell_type": "code",
      "source": [
        "groupedSeg = fullData.groupby(['weekday','pricing_channel']) #grouping the data by weekday and pricing channel\n",
        "\n",
        "XpriceBySeg = [(key, dataset['X_price']) for key, dataset in groupedSeg]  #creating a list of tuples ((weekday,channel), X_price of that day and channel)\n",
        "ordersBySeg = [(key, dataset['orders'])for key, dataset in groupedSeg] #creating a list of tuples ((weekday,channel), orders of that day and channel)\n",
        "\n",
        "#initializing the lists of correlations, p-values, and a list of the keys indicating the day and channel\n",
        "corrPriceOrders = []\n",
        "pValPriceOrders = []\n",
        "listKey = []\n",
        "\n",
        "#filling those lists with the correspective data\n",
        "for num, lis in enumerate(XpriceBySeg):\n",
        "    listKey.append(str(lis[0][0])+str(lis[0][1])) #data about the keys\n",
        "    corrPriceOrders.append( pearsonr(ordersBySeg[num][1],lis[1])[0] ) #data about the correlation\n",
        "    pValPriceOrders.append((lis[0], pearsonr(ordersBySeg[num][1],lis[1])[1] )) #data about the p-values for each day and channel\n",
        "\n",
        "plt.bar(listKey, corrPriceOrders ) #plot the graph of the correlations\n",
        "plt.title('Correlation between X_price and orders by weekday and channel ')\n",
        "print(pValPriceOrders) #print the p-values of each day and channel"
      ],
      "metadata": {
        "colab": {
          "base_uri": "https://localhost:8080/",
          "height": 319
        },
        "id": "lJo-dDg6zUAF",
        "outputId": "f23e33f2-8423-450c-fbe0-f8fe819615bc"
      },
      "execution_count": null,
      "outputs": [
        {
          "output_type": "stream",
          "name": "stdout",
          "text": [
            "[((1, 'A'), 0.04850211711024917), ((1, 'B'), 0.6104816336621979), ((2, 'A'), 3.58647177049841e-07), ((2, 'B'), 2.7319016944769137e-12), ((3, 'A'), 1.3875746528661206e-06), ((3, 'B'), 9.998960957025557e-06), ((4, 'A'), 1.1127278473406144e-05), ((4, 'B'), 4.103247420193249e-10), ((5, 'A'), 0.003117874166629446), ((5, 'B'), 0.13975348601242416), ((6, 'A'), 3.1072198906952914e-12), ((6, 'B'), 4.8405035194771924e-09), ((7, 'A'), 5.975641499807246e-13), ((7, 'B'), 6.477285201554156e-18)]\n"
          ]
        },
        {
          "output_type": "display_data",
          "data": {
            "text/plain": [
              "<Figure size 432x288 with 1 Axes>"
            ],
            "image/png": "[encoded data removed]"
          },
          "metadata": {
            "needs_background": "light"
          }
        }
      ]
    },
    {
      "cell_type": "markdown",
      "source": [
        "Ok we have something interesting: there seems to be some medium/strong correlations for the days 2,3,4,6,7. Technically the p-values of 1A and 5A are also significant, but the correlations are a bit weak, so we won't consider them.\n",
        "\n",
        "This means 2 main things:\n",
        "\n",
        "\n",
        "1.   We could try to look at the plots of X_price and orders for the days 2,3,4,6, adn 7, since in these days it seems that the increase in price is affecting the number of orders (and, in consequence, the profit)\n",
        "2.   We should consider that maybe during days 1 and 5, since there is really low correlation between the orders and the increase in price, then maybe the increase in price doesn't impact the number of sales. So maybe increasing the price the maximum amount possible maximizes the profit. So we will start by analyzing this last hypothesis, focusing on day 1 and 5.\n",
        "\n"
      ],
      "metadata": {
        "id": "QOT--pkDOEUP"
      }
    },
    {
      "cell_type": "markdown",
      "source": [
        "#Checking out day 1 and 5\n",
        "\n",
        "Our hypothesis is that during day 1 and 5 the orders are not affected by the increase in price. This should mean that the profit correlates with the increase in price during those days. We check this with the following code. "
      ],
      "metadata": {
        "id": "NiKMKioTbUga"
      }
    },
    {
      "cell_type": "code",
      "source": [
        "profitBySeg = [(key, dataset['profit'])for key, dataset in groupedSeg] \n",
        "\n",
        "#initializing the lists of correlations, p-values, and a list of the keys indicating the day and channel\n",
        "corrPriceProfit = []\n",
        "pValPriceProfit = []\n",
        "listKey = []\n",
        "\n",
        "#filling those lists with the correspective data\n",
        "for num, lis in enumerate(XpriceBySeg):\n",
        "    listKey.append(str(lis[0][0])+str(lis[0][1])) #data about the keys\n",
        "    corrPriceProfit.append( pearsonr(profitBySeg[num][1],lis[1])[0] ) #data about the correlation\n",
        "    pValPriceProfit.append((lis[0], pearsonr(profitBySeg[num][1],lis[1])[1] )) #data about the p-values for each day and channel\n",
        "\n",
        "plt.bar(listKey, corrPriceProfit ) #plot the graph of the correlations\n",
        "plt.title('Correlation between X_price and Profit by weekday and channel ')\n",
        "print(pValPriceProfit) #print the p-values of each day and channel"
      ],
      "metadata": {
        "colab": {
          "base_uri": "https://localhost:8080/",
          "height": 319
        },
        "id": "RciDxFN_dtL1",
        "outputId": "b75be6c0-6f11-47ad-dfbe-9b5c858c2a76"
      },
      "execution_count": null,
      "outputs": [
        {
          "output_type": "stream",
          "name": "stdout",
          "text": [
            "[((1, 'A'), 8.585355437311653e-06), ((1, 'B'), 2.1592244864834864e-07), ((2, 'A'), 0.4685813211316449), ((2, 'B'), 0.988850178804016), ((3, 'A'), 0.13326534727547976), ((3, 'B'), 0.1453675585655965), ((4, 'A'), 0.0002723885141021058), ((4, 'B'), 0.02959270575930572), ((5, 'A'), 8.535377218035195e-08), ((5, 'B'), 5.563299655262501e-10), ((6, 'A'), 0.04552038839937819), ((6, 'B'), 0.10378099630441302), ((7, 'A'), 0.07420599932284092), ((7, 'B'), 0.33702644916847263)]\n"
          ]
        },
        {
          "output_type": "display_data",
          "data": {
            "text/plain": [
              "<Figure size 432x288 with 1 Axes>"
            ],
            "image/png": "[encoded data removed]"
          },
          "metadata": {
            "needs_background": "light"
          }
        }
      ]
    },
    {
      "cell_type": "markdown",
      "source": [
        "The peaks for day 1 and 5 is exactly what we expected. It means that there is a medium correlation between the increase in price and the profit for day 1 and 5. So what could determine the orders during those days? So far we haven't looked at the effect of the traffic on the orders. Let's check it."
      ],
      "metadata": {
        "id": "XSXNmRhvfIaE"
      }
    },
    {
      "cell_type": "code",
      "source": [
        "trafficBySeg = [(key, dataset['traffic'])for key, dataset in groupedSeg] #creating a list of tuples ((weekday,channel), profit of that day and channel)\n",
        "\n",
        "#initializing the lists of correlations, p-values, and a list of the keys indicating the day and channel\n",
        "corrTrafficOrders = []\n",
        "pValTrafficOrders = []\n",
        "listKey = []\n",
        "\n",
        "#filling those lists with the correspective data\n",
        "for num, lis in enumerate(trafficBySeg):\n",
        "    listKey.append(str(lis[0][0])+str(lis[0][1])) #data about the keys\n",
        "    corrTrafficOrders.append( pearsonr(ordersBySeg[num][1],lis[1])[0] ) #data about the correlation\n",
        "    pValTrafficOrders.append((lis[0], pearsonr(ordersBySeg[num][1],lis[1])[1] )) #data about the p-values for each day and channel\n",
        "\n",
        "plt.bar(listKey, corrTrafficOrders ) #plot the graph of the correlations\n",
        "plt.title('Correlation between traffic and orders by weekday and channel ')\n",
        "print(pValTrafficOrders) #print the p-values of each day and channel"
      ],
      "metadata": {
        "colab": {
          "base_uri": "https://localhost:8080/",
          "height": 319
        },
        "id": "rw5Ls7y_fz0s",
        "outputId": "98560847-d0e8-4092-cf81-1c02f351edc3"
      },
      "execution_count": null,
      "outputs": [
        {
          "output_type": "stream",
          "name": "stdout",
          "text": [
            "[((1, 'A'), 7.498125245085066e-35), ((1, 'B'), 7.745140529323385e-40), ((2, 'A'), 1.2123866456745159e-11), ((2, 'B'), 2.0374454114509087e-07), ((3, 'A'), 1.025945524388321e-18), ((3, 'B'), 3.9653800010332285e-18), ((4, 'A'), 4.353405608284312e-18), ((4, 'B'), 2.060445395598253e-18), ((5, 'A'), 4.8550024936712697e-23), ((5, 'B'), 8.055101655074904e-20), ((6, 'A'), 1.1722417003857864e-10), ((6, 'B'), 2.8859515347473916e-12), ((7, 'A'), 7.942599529230914e-09), ((7, 'B'), 1.8982911201935068e-05)]\n"
          ]
        },
        {
          "output_type": "display_data",
          "data": {
            "text/plain": [
              "<Figure size 432x288 with 1 Axes>"
            ],
            "image/png": "[encoded data removed]"
          },
          "metadata": {
            "needs_background": "light"
          }
        }
      ]
    },
    {
      "cell_type": "markdown",
      "source": [
        "We find high correlations between the traffic and the orders for day 1 and 5. So we conclude that in those days it is the traffic that drives the orders, and thus the prices. \n",
        "\n",
        "But we also notice that the traffic would explain the number of orders during the other days (with different correlations for day 2,6 and 7). This is a thing to keep in mind while we try to maximize the profits for day 2,3,4,6,7."
      ],
      "metadata": {
        "id": "iPyaPwaFkuue"
      }
    },
    {
      "cell_type": "markdown",
      "source": [
        "#Relation between X_price and orders for day 2,3,4,6,7.\n",
        "\n",
        "Let's start to look at the price curves for the days in which the increase in price is affecting the orders."
      ],
      "metadata": {
        "id": "vJ5eeTYhliwC"
      }
    },
    {
      "cell_type": "code",
      "source": [
        "#for example, let's look at the plots of 2A and 2B\n",
        "\n",
        "#first prepare the lists of Xprice and of Orders\n",
        "listOfXPrice = list(map(lambda x : x[1], XpriceBySeg))\n",
        "listOrders = list(map(lambda x : x[1], ordersBySeg))\n",
        "#fit a linear model for the 2A condition\n",
        "modelA = LinearRegression().fit(np.array(listOfXPrice[2]).reshape(-1, 1), np.array(listOrders[2]))\n",
        "#fit a linear model for the 2B condition\n",
        "modelB = LinearRegression().fit(np.array(listOfXPrice[3]).reshape(-1, 1), np.array(listOrders[3]))\n",
        "\n",
        "#printing the plot of 2A\n",
        "plt.scatter(listOfXPrice[2], listOrders[2])\n",
        "plt.plot(listOfXPrice[2], modelA.predict(np.array(listOfXPrice[2]).reshape(-1, 1)),color='k')\n",
        "plt.title('Scatterplot of orders and X_price, for condition 2A, with a fitted linear model')\n",
        "plt.show()\n",
        "print('the coeff and intercept for 2A are:', modelA.coef_[0], modelA.intercept_)\n",
        "\n",
        "#printing the plot of 2B\n",
        "plt.scatter(listOfXPrice[3], listOrders[3])\n",
        "plt.plot(listOfXPrice[3], modelB.predict(np.array(listOfXPrice[3]).reshape(-1, 1)),color='k')\n",
        "plt.title('Scatterplot of orders and X_price, for condition 2B, with a fitted linear model')\n",
        "plt.show()\n",
        "print('the coeff and intercept for 2B are:', modelB.coef_[0], modelB.intercept_)"
      ],
      "metadata": {
        "colab": {
          "base_uri": "https://localhost:8080/",
          "height": 581
        },
        "id": "oV6bZq6ASX3y",
        "outputId": "4a4edfa9-4ae5-4e55-9288-3327ed94a684"
      },
      "execution_count": null,
      "outputs": [
        {
          "output_type": "display_data",
          "data": {
            "text/plain": [
              "<Figure size 432x288 with 1 Axes>"
            ],
            "image/png": "[encoded data removed]"
          },
          "metadata": {
            "needs_background": "light"
          }
        },
        {
          "output_type": "stream",
          "name": "stdout",
          "text": [
            "the coeff and intercept for 2A are: -44.47332686711928 34.17022308438409\n"
          ]
        },
        {
          "output_type": "display_data",
          "data": {
            "text/plain": [
              "<Figure size 432x288 with 1 Axes>"
            ],
            "image/png": "[encoded data removed]"
          },
          "metadata": {
            "needs_background": "light"
          }
        },
        {
          "output_type": "stream",
          "name": "stdout",
          "text": [
            "the coeff and intercept for 2B are: -54.724269147136994 36.11846913505678\n"
          ]
        }
      ]
    },
    {
      "cell_type": "markdown",
      "source": [
        "So we are starting to have some predictive power, by using X_price we can try to predict the number of orders, and in this way we are getting closer to a price elasticity curve. Now we can check if the fitted lines look different for the different days (2,3,4,6,7) and channels."
      ],
      "metadata": {
        "id": "AkmotltY1Rqy"
      }
    },
    {
      "cell_type": "code",
      "source": [
        "#this is a bit ugly, but it is faster than thinking about a weird for loop: it's just a bunch of linear regressions for the various conditions \n",
        "model2A = LinearRegression().fit(np.array(listOfXPrice[2]).reshape(-1, 1), np.array(listOrders[2]))\n",
        "print('the coeff and intercept for 2A are:', model2A.coef_[0], model2A.intercept_, )\n",
        "model2B = LinearRegression().fit(np.array(listOfXPrice[3]).reshape(-1, 1), np.array(listOrders[3]))\n",
        "print('the coeff and intercept for 2B are:', model2B.coef_[0], model2B.intercept_)\n",
        "\n",
        "model3A = LinearRegression().fit(np.array(listOfXPrice[4]).reshape(-1, 1), np.array(listOrders[4]))\n",
        "print('the coeff and intercept for 3A are:', model3A.coef_[0], model3A.intercept_)\n",
        "model3B = LinearRegression().fit(np.array(listOfXPrice[5]).reshape(-1, 1), np.array(listOrders[5]))\n",
        "print('the coeff and intercept for 3B are:', model3B.coef_[0], model3B.intercept_)\n",
        "\n",
        "model4A = LinearRegression().fit(np.array(listOfXPrice[6]).reshape(-1, 1), np.array(listOrders[6]))\n",
        "print('the coeff and intercept for 4A are:', model4A.coef_[0], model4A.intercept_)\n",
        "model4B = LinearRegression().fit(np.array(listOfXPrice[7]).reshape(-1, 1), np.array(listOrders[7]))\n",
        "print('the coeff and intercept for 4B are:', model4B.coef_[0], model4B.intercept_)\n",
        "\n",
        "model6A = LinearRegression().fit(np.array(listOfXPrice[10]).reshape(-1, 1), np.array(listOrders[10]))\n",
        "print('the coeff and intercept for 6A are:', model6A.coef_[0], model6A.intercept_)\n",
        "model6B = LinearRegression().fit(np.array(listOfXPrice[11]).reshape(-1, 1), np.array(listOrders[11]))\n",
        "print('the coeff and intercept for 6B are:', model6B.coef_[0], model6B.intercept_)\n",
        "\n",
        "model7A = LinearRegression().fit(np.array(listOfXPrice[12]).reshape(-1, 1), np.array(listOrders[12]))\n",
        "print('the coeff and intercept for 7A are:', model7A.coef_[0], model7A.intercept_)\n",
        "model7B = LinearRegression().fit(np.array(listOfXPrice[13]).reshape(-1, 1), np.array(listOrders[13]))\n",
        "print('the coeff and intercept for 7B are:', model7B.coef_[0], model7B.intercept_)"
      ],
      "metadata": {
        "colab": {
          "base_uri": "https://localhost:8080/"
        },
        "id": "7hUL2xB-WQSq",
        "outputId": "d9ffcd83-d262-49e3-863c-b3d4de221714"
      },
      "execution_count": null,
      "outputs": [
        {
          "output_type": "stream",
          "name": "stdout",
          "text": [
            "the coeff and intercept for 2A are: -44.47332686711928 34.17022308438409\n",
            "the coeff and intercept for 2B are: -54.724269147136994 36.11846913505678\n",
            "the coeff and intercept for 3A are: -54.70439924820071 44.65639564200907\n",
            "the coeff and intercept for 3B are: -53.98354179353851 45.94640933152199\n",
            "the coeff and intercept for 4A are: -54.06624272166379 59.411239802439525\n",
            "the coeff and intercept for 4B are: -66.13611760013676 56.26031992479061\n",
            "the coeff and intercept for 6A are: -96.43690400132506 58.87823288611249\n",
            "the coeff and intercept for 6B are: -88.77496003556598 59.520615972530955\n",
            "the coeff and intercept for 7A are: -83.13136521851234 33.74046022947016\n",
            "the coeff and intercept for 7B are: -85.9450884685784 35.775152532031726\n"
          ]
        }
      ]
    },
    {
      "cell_type": "markdown",
      "source": [
        "Interesting, we find some different coefficients for the days 6 and 7. This analysis could be done with much better statistics, but for now we should consider that maybe day 6 and 7 could be segmented differently from the rest of the days.\n",
        "\n",
        "Yet the power of these models is not that great (we could measure it with a r2 score), so let's try now to use what we have learned in the previous section, and try to use also the traffic. We will do this by fitting both X_price and traffic to predict the orders."
      ],
      "metadata": {
        "id": "ERR8LgoMY82-"
      }
    },
    {
      "cell_type": "code",
      "source": [
        "dataDays = fullData[(fullData['weekday']!= 1) & (fullData['weekday']!= 5)] #picking the data for days 2,3,4,6,7\n",
        "X = np.array([list(dataDays['X_price']), list(dataDays['traffic'])]).transpose() # creating array for the 2 indipendent variables: X_price and traffic\n",
        "y = np.array(dataDays['orders']) #the variable we are trying to predict, i.e. orders\n",
        "#creating the linear model, fitting X and y. Then printing the r^2 (how good the model performs), and the coefficents\n",
        "reg = LinearRegression().fit(X, y) \n",
        "print(reg.score(X, y))\n",
        "print(reg.coef_,  reg.intercept_)"
      ],
      "metadata": {
        "colab": {
          "base_uri": "https://localhost:8080/"
        },
        "id": "hCIBO0MD3M-h",
        "outputId": "ce01909e-e4dc-4e9d-b834-42710f302783"
      },
      "execution_count": null,
      "outputs": [
        {
          "output_type": "stream",
          "name": "stdout",
          "text": [
            "0.5677579076666335\n",
            "[-6.76196852e+01  1.99810290e-02] 0.478167971744881\n"
          ]
        }
      ]
    },
    {
      "cell_type": "markdown",
      "source": [
        "Good-ish but not great, let's see if focusing only on day 3 and 4 we get better results (we exclude 2,6,7 because they showed different correlation during the previous data explorations) "
      ],
      "metadata": {
        "id": "SpJwBVE172Ze"
      }
    },
    {
      "cell_type": "code",
      "source": [
        "dataDays = fullData[(fullData['weekday']== 4) | (fullData['weekday']== 3)  ]#picking the data for days 3, 4\n",
        "X = np.array([list(dataDays['X_price']), list(dataDays['traffic'])]).transpose() # creating array for the 2 indipendent variables: X_price and traffic\n",
        "y = np.array(dataDays['orders']) #the variable we are trying to predict, i.e. orders\n",
        "#creating the linear model, fitting X and y. Then printing the r^2 (how good the model performs), and the coefficents\n",
        "reg = LinearRegression().fit(X, y)\n",
        "print(reg.score(X, y))\n",
        "print(reg.coef_,  reg.intercept_)"
      ],
      "metadata": {
        "colab": {
          "base_uri": "https://localhost:8080/"
        },
        "id": "9wHcPzF-7FPW",
        "outputId": "8c7043df-212f-4d6b-cf41-93ad2bdd9bbb"
      },
      "execution_count": null,
      "outputs": [
        {
          "output_type": "stream",
          "name": "stdout",
          "text": [
            "0.8029057247377402\n",
            "[-5.32826797e+01  2.18680127e-02] 1.9024622854608708\n"
          ]
        }
      ]
    },
    {
      "cell_type": "markdown",
      "source": [
        "This is a much better score! Let's check the rest of the days."
      ],
      "metadata": {
        "id": "yLyoEp4L-MwE"
      }
    },
    {
      "cell_type": "code",
      "source": [
        "dataDays = fullData[ (fullData['weekday']== 2) |(fullData['weekday']== 7)]  #picking the data for days 2, 7\n",
        "X = np.array([list(dataDays['X_price']), list(dataDays['traffic'])]).transpose() # creating array for the 2 indipendent variables: X_price and traffic\n",
        "y = np.array(dataDays['orders']) #the variable we are trying to predict, i.e. orders\n",
        "#creating the linear model, fitting X and y. Then printing the r^2 (how good the model performs), and the coefficents\n",
        "reg = LinearRegression().fit(X, y)\n",
        "print(reg.score(X, y))\n",
        "print(reg.coef_,  reg.intercept_)"
      ],
      "metadata": {
        "colab": {
          "base_uri": "https://localhost:8080/"
        },
        "id": "0V9Rm2de-Vim",
        "outputId": "dd0f1628-e7af-4838-b5d6-9cc83e835b1a"
      },
      "execution_count": null,
      "outputs": [
        {
          "output_type": "stream",
          "name": "stdout",
          "text": [
            "0.9242042223311233\n",
            "[-7.27214539e+01  1.59938408e-02] -1.9249738550919488\n"
          ]
        }
      ]
    },
    {
      "cell_type": "markdown",
      "source": [
        "Ok i must admit this result is a bit weird, I expected that days 2 and 7 would go on different segments, because of the differences found in the models that only predicted based on X_price. But this seems to work really well. "
      ],
      "metadata": {
        "id": "xmfrGL25_jYp"
      }
    },
    {
      "cell_type": "code",
      "source": [
        "dataDays = fullData[ (fullData['weekday']== 6) ] #picking the data for day 6\n",
        "X = np.array([list(dataDays['X_price']), list(dataDays['traffic'])]).transpose() # creating array for the 2 indipendent variables: X_price and traffic\n",
        "y = np.array(dataDays['orders']) #the variable we are trying to predict, i.e. orders\n",
        "#creating the linear model, fitting X and y. Then printing the r^2 (how good the model performs), and the coefficents\n",
        "reg = LinearRegression().fit(X, y)\n",
        "print(reg.score(X, y))\n",
        "print(reg.coef_,  reg.intercept_)"
      ],
      "metadata": {
        "colab": {
          "base_uri": "https://localhost:8080/"
        },
        "id": "lMzbZhQv_fob",
        "outputId": "13f2f38a-687a-4728-8f49-102ee37aa71e"
      },
      "execution_count": null,
      "outputs": [
        {
          "output_type": "stream",
          "name": "stdout",
          "text": [
            "0.9311562779164759\n",
            "[-9.40874177e+01  2.44246967e-02] 1.789806617394568\n"
          ]
        }
      ]
    },
    {
      "cell_type": "markdown",
      "source": [
        "And our final segment is day 6. Now that we have a good model for understanding how to segment the customer base, we can consider how to maximize profits."
      ],
      "metadata": {
        "id": "hg7srK5FAVJO"
      }
    },
    {
      "cell_type": "markdown",
      "source": [
        "We already discussed that for customers appearing on day 1 and 5 we can likely put the higest price.  Yet one could try to do the same analysis that we did for the previous segments:"
      ],
      "metadata": {
        "id": "brglvlJIRyOk"
      }
    },
    {
      "cell_type": "code",
      "source": [
        "dataDays = fullData[ (fullData['weekday']== 5) | (fullData['weekday']== 1)] #picking the data for days 1, 5\n",
        "X = np.array([list(dataDays['X_price']), list(dataDays['traffic'])]).transpose() # creating array for the 2 indipendent variables: X_price and traffic\n",
        "y = np.array(dataDays['orders']) #the variable we are trying to predict, i.e. orders\n",
        "#creating the linear model, fitting X and y. Then printing the r^2 (how good the model performs), and the coefficents\n",
        "reg = LinearRegression().fit(X, y)\n",
        "print(reg.score(X, y))\n",
        "print(reg.coef_,  reg.intercept_)"
      ],
      "metadata": {
        "colab": {
          "base_uri": "https://localhost:8080/"
        },
        "id": "i4PG_P1ACCce",
        "outputId": "644b821d-d475-4d3e-bf13-b5c05ec9e0ae"
      },
      "execution_count": null,
      "outputs": [
        {
          "output_type": "stream",
          "name": "stdout",
          "text": [
            "0.8005289868996707\n",
            "[-3.98649109e+01  2.88678749e-02] -2.8161563241093006\n"
          ]
        }
      ]
    },
    {
      "cell_type": "markdown",
      "source": [
        "This is not bad! Since this data driven approach seems to be working better than our previous approach based on hypothesis testing, we ought to check if we can cluster these 2 days differently. We notice that the coeafficients are really close to days 4,3. \n",
        "\n",
        "So we find a clustering that seems a bit better:"
      ],
      "metadata": {
        "id": "zBPigeeER6zL"
      }
    },
    {
      "cell_type": "code",
      "source": [
        "dataDays = fullData[ (fullData['weekday']== 5) ] #picking the data for day 5\n",
        "X = np.array([list(dataDays['X_price']), list(dataDays['traffic'])]).transpose() # creating array for the 2 indipendent variables: X_price and traffic\n",
        "y = np.array(dataDays['orders']) #the variable we are trying to predict, i.e. orders\n",
        "#creating the linear model, fitting X and y. Then printing the r^2 (how good the model performs), and the coefficents\n",
        "reg = LinearRegression().fit(X, y)\n",
        "print(reg.score(X, y))\n",
        "print(reg.coef_,  reg.intercept_)"
      ],
      "metadata": {
        "colab": {
          "base_uri": "https://localhost:8080/"
        },
        "id": "lUP0ovXBSUe7",
        "outputId": "26122636-656f-41e9-b0b5-ed4d3ed521d6"
      },
      "execution_count": null,
      "outputs": [
        {
          "output_type": "stream",
          "name": "stdout",
          "text": [
            "0.936720566736395\n",
            "[-6.01595570e+01  3.11193978e-02] -2.3679405051783675\n"
          ]
        }
      ]
    },
    {
      "cell_type": "code",
      "source": [
        "dataDays = fullData[(fullData['weekday']== 4) | (fullData['weekday']== 3) | (fullData['weekday']== 1) ]#picking the data for days 1,3,4\n",
        "X = np.array([list(dataDays['X_price']), list(dataDays['traffic'])]).transpose() # creating array for the 2 indipendent variables: X_price and traffic\n",
        "y = np.array(dataDays['orders']) #the variable we are trying to predict, i.e. orders\n",
        "#creating the linear model, fitting X and y. Then printing the r^2 (how good the model performs), and the coefficents\n",
        "reg = LinearRegression().fit(X, y)\n",
        "print(reg.score(X, y))\n",
        "print(reg.coef_,  reg.intercept_)"
      ],
      "metadata": {
        "colab": {
          "base_uri": "https://localhost:8080/"
        },
        "id": "xZRjyPOKSYT2",
        "outputId": "fbfdc23f-dfb6-48de-b4dc-659cbb95843c"
      },
      "execution_count": null,
      "outputs": [
        {
          "output_type": "stream",
          "name": "stdout",
          "text": [
            "0.8031903650508676\n",
            "[-4.58269635e+01  2.36587776e-02] -0.2648758994096596\n"
          ]
        }
      ]
    },
    {
      "cell_type": "markdown",
      "source": [
        "Very interesting, this segmentation seems to be a better explaination. So we have 2 hypothesis, the segments could be:\n",
        "\n",
        "\n",
        "*   1,3,4\n",
        "*   5\n",
        "*   6\n",
        "*   2,7\n",
        "\n",
        "or:\n",
        "\n",
        "*   3,4\n",
        "*   1,5\n",
        "*   6\n",
        "*   2,7\n",
        "\n",
        "We will decide based on how this model of the orders performs when trying to maximize the profit.\n"
      ],
      "metadata": {
        "id": "ekNnmNY_S5S5"
      }
    },
    {
      "cell_type": "markdown",
      "source": [
        "#How to maximize profits based on segmentation\n",
        "\n"
      ],
      "metadata": {
        "id": "I0zyTYKTBjFS"
      }
    },
    {
      "cell_type": "markdown",
      "source": [
        "We have some segments, and for each of them we need to ask how to increase the X_profits to maximize the profits. We could solve this statistically (maybe by trying to predict profit by fitting orders and X_price and traffic) or we could look at the economic theory of price elasticity. \n",
        "\n",
        "Following this theory, we assume that we have a linear curve between the price and the orders. Then each point represents a particular choice of price and number of orders at that price. To maximize the profit, we only need to look for the biggest rectangle that sits under this curve (since profit = orders * price)."
      ],
      "metadata": {
        "id": "usTm7s01GFtO"
      }
    },
    {
      "cell_type": "markdown",
      "source": [
        "There are a couple of problems though. We don't have the price, just a percentage change in price. Furtermore, we are selling different products.\n",
        "\n",
        "From these problems I conclude that we need to make some assumptions on the data. I create an extra column in the dataset that wants to represent a procy of the \"real\" price. I don't know what the \"true\" price, so I will consider that it is 1 as a baseline. Then this column of represented prices is just 1 added to the X_price  "
      ],
      "metadata": {
        "id": "CCRNnIvXJx7b"
      }
    },
    {
      "cell_type": "code",
      "source": [
        "fullData['priceRep'] = fullData.apply(lambda row : row['X_price'] + 1 , axis = 1) #the new column is just X_price + 1 (given that X_price are changes in percentage)"
      ],
      "metadata": {
        "id": "qFnnEbV_Kgap"
      },
      "execution_count": null,
      "outputs": []
    },
    {
      "cell_type": "markdown",
      "source": [
        "This could be a big assumption. But with this column we can see how far our represented profit is from the real profit. The represented profit is the represented price times the orders."
      ],
      "metadata": {
        "id": "nq-9vqxpKizV"
      }
    },
    {
      "cell_type": "code",
      "source": [
        "fullData['profitRep'] = fullData.apply(lambda row : row['priceRep'] * row['orders'], axis = 1) #the column of represented prices is the column we just added * the orders"
      ],
      "metadata": {
        "id": "jT-X6pn8LI0Y"
      },
      "execution_count": null,
      "outputs": []
    },
    {
      "cell_type": "markdown",
      "source": [
        "Now we want to know how much this is different from the real profit:"
      ],
      "metadata": {
        "id": "1PWX7IF4LULP"
      }
    },
    {
      "cell_type": "code",
      "source": [
        "#we print the correlation and the plot of the real profit and the represented profit\n",
        "print(pearsonr(fullData['profitRep'], fullData['profit']))\n",
        "plt.scatter(fullData['profitRep'], fullData['profit'])"
      ],
      "metadata": {
        "colab": {
          "base_uri": "https://localhost:8080/",
          "height": 304
        },
        "id": "iIlgCsbk4hpc",
        "outputId": "e38cc893-f6af-4b93-9358-8623c1d6c673"
      },
      "execution_count": null,
      "outputs": [
        {
          "output_type": "stream",
          "name": "stdout",
          "text": [
            "(0.8999354205048877, 0.0)\n"
          ]
        },
        {
          "output_type": "execute_result",
          "data": {
            "text/plain": [
              "<matplotlib.collections.PathCollection at 0x7f075e935e50>"
            ]
          },
          "metadata": {},
          "execution_count": 8
        },
        {
          "output_type": "display_data",
          "data": {
            "text/plain": [
              "<Figure size 432x288 with 1 Axes>"
            ],
            "image/png": "[encoded data removed]"
          },
          "metadata": {
            "needs_background": "light"
          }
        }
      ]
    },
    {
      "cell_type": "markdown",
      "source": [
        "Not bad (that is, for small values, but it seems the higher the profit the higher the variance). From this correlation I conclude that I can use the represented price as a proxy for the real prices. "
      ],
      "metadata": {
        "id": "R997TK2-IQAY"
      }
    },
    {
      "cell_type": "markdown",
      "source": [
        "Now the process for maximizing should be simple. I will have, for each segment, a formula (the linear reagression) that says: \n",
        "\n",
        "orders = a * price + b * traffic + c \n",
        "\n",
        "I want to maximize the profits, which is price * orders, which gives \n",
        "profit = a * price^2+ b * traffic * price + c * price\n",
        "\n",
        "So, if i remember calculus correctly, I take the first derivative w.r.t price, and I get 2 * a * price + b * traffic  + c = 0, which gets me \n",
        "\n",
        "price =  (- b * traffic  - c)/(2 * a) \n",
        "\n",
        "Which I can use as a formula to maximize price.\n"
      ],
      "metadata": {
        "id": "qy1siCJiM4pW"
      }
    },
    {
      "cell_type": "code",
      "source": [
        "# we calculate the coefficients for segment 1, 3, 4 with the same process as before\n",
        "\n",
        "dataDays = fullData[(fullData['weekday']== 4) | (fullData['weekday']== 3) | (fullData['weekday']== 1) ]#picking the data for days 1,3,4\n",
        "X = np.array([list(dataDays['priceRep']), list(dataDays['traffic'])]).transpose() # creating array for the 2 indipendent variables: X_price and traffic\n",
        "y = np.array(dataDays['orders'])\n",
        "reg134 = LinearRegression().fit(X, y)\n",
        "\n",
        "#assigning the coefficients\n",
        "a134 = reg134.coef_[0]\n",
        "b134 = reg134.coef_[1]\n",
        "c134 = reg134.intercept_\n",
        "\n",
        "\n",
        "# we calculate the coefficients for segment 5 with the same process as before\n",
        "\n",
        "dataDays = fullData[(fullData['weekday']== 5) ]#picking the data for days 1,3,4\n",
        "X = np.array([list(dataDays['priceRep']), list(dataDays['traffic'])]).transpose() # creating array for the 2 indipendent variables: X_price and traffic\n",
        "y = np.array(dataDays['orders'])\n",
        "reg5 = LinearRegression().fit(X, y)\n",
        "\n",
        "#assigning the coefficients\n",
        "a5 = reg5.coef_[0]\n",
        "b5 = reg5.coef_[1]\n",
        "c5 = reg5.intercept_\n",
        "\n",
        "\n",
        "# we calculate the coefficients for segment 6 with the same process as before\n",
        "\n",
        "dataDays = fullData[(fullData['weekday']== 6) ]#picking the data for days 1,3,4\n",
        "X = np.array([list(dataDays['priceRep']), list(dataDays['traffic'])]).transpose() # creating array for the 2 indipendent variables: X_price and traffic\n",
        "y = np.array(dataDays['orders'])\n",
        "reg6 = LinearRegression().fit(X, y)\n",
        "\n",
        "#assigning the coefficients\n",
        "a6 = reg6.coef_[0]\n",
        "b6 = reg6.coef_[1]\n",
        "c6 = reg6.intercept_\n",
        "\n",
        "\n",
        "# we calculate the coefficients for segment 2, 7 with the same process as before\n",
        "\n",
        "dataDays = fullData[(fullData['weekday']== 2) | (fullData['weekday']== 7) ]#picking the data for days 1,3,4\n",
        "X = np.array([list(dataDays['priceRep']), list(dataDays['traffic'])]).transpose() # creating array for the 2 indipendent variables: X_price and traffic\n",
        "y = np.array(dataDays['orders'])\n",
        "reg27 = LinearRegression().fit(X, y)\n",
        "\n",
        "#assigning the coefficients\n",
        "a27 = reg27.coef_[0]\n",
        "b27 = reg27.coef_[1]\n",
        "c27 = reg27.intercept_\n",
        "\n",
        "\n",
        "# We create the function that takes in input 3 values of the dataframe: weekday, traffic\n",
        "# and returns the maximized price = (- b * traffic - c)/(2 * a)\n",
        "\n",
        "def MaxPrice(weekday, traffic):\n",
        "\n",
        "    if weekday == 1 or weekday == 3 or weekday == 4:\n",
        "      return (- b134 * traffic - c134)/(2 * a134)\n",
        "    elif weekday == 5:\n",
        "      return (- b5 * traffic - c5)/(2 * a5)\n",
        "    elif weekday == 6:\n",
        "      return (- b6 * traffic - c6)/(2 * a6)\n",
        "    else:\n",
        "      return (- b27 * traffic - c27)/(2 * a27)\n",
        "\n",
        "\n",
        "#then we apply this function to a new column of predicted max prices:\n",
        "\n",
        "fullData['maxPrice'] = fullData.apply(lambda row : MaxPrice(row['weekday'],row['traffic']) , axis=1)\n",
        "\n",
        "# then we create a column of the expected orders following orders = a * price + b * traffic + c \n",
        "\n",
        "def ExpOrders(weekday, traffic, price):\n",
        "\n",
        "    if weekday == 1 or weekday == 3 or weekday == 4:\n",
        "      return a134 * price + b134 * traffic + c134\n",
        "    elif weekday == 5:\n",
        "      return a5 * price + b5 * traffic + c5 \n",
        "    elif weekday == 6:\n",
        "      return a6 * price + b6 * traffic + c6 \n",
        "    else:\n",
        "      return a27 * price + b27 * traffic + c27 \n",
        "\n",
        "fullData['expOrders'] = fullData.apply(lambda row : ExpOrders(row['weekday'],row['traffic'],row['maxPrice']) , axis=1)\n",
        "\n",
        "#then we create a new column of expected profit:\n",
        "fullData['expProfit'] = fullData.apply(lambda row : row['maxPrice'] * row['expOrders'], axis = 1) \n"
      ],
      "metadata": {
        "id": "-Nlq1bgcfXSD"
      },
      "execution_count": null,
      "outputs": []
    },
    {
      "cell_type": "markdown",
      "source": [
        "But are these expected profits better?"
      ],
      "metadata": {
        "id": "TWvRYlMum61u"
      }
    },
    {
      "cell_type": "code",
      "source": [
        "# we create a new column that calculates the percentage increase from the expected profits to the represented profits \n",
        "fullData['difference'] = fullData.apply(lambda row : (row['expProfit'] - row['profitRep'])/row['profitRep'], axis = 1) \n",
        "\n",
        "print('the percentage increase in profits for segment 134:',fullData[(fullData['weekday']== 1) | (fullData['weekday']== 3) | (fullData['weekday']== 4)]['difference'].describe())\n",
        "print('the percentage increase in profits for segment 27:',fullData[(fullData['weekday']== 2) | (fullData['weekday']== 7) ]['difference'].describe())\n",
        "print('the percentage increase in profits for segment 5:',fullData[(fullData['weekday']== 5) ]['difference'].describe())\n",
        "print('the percentage increase in profits for segment 6:',fullData[(fullData['weekday']== 6) ]['difference'].describe())\n",
        "print('the percentage increase in profits overall',fullData['difference'].describe())\n"
      ],
      "metadata": {
        "colab": {
          "base_uri": "https://localhost:8080/"
        },
        "id": "WFx3rjtHmMeN",
        "outputId": "ccac0a31-4dc4-41fb-d63d-e615b27e4c79"
      },
      "execution_count": null,
      "outputs": [
        {
          "output_type": "stream",
          "name": "stdout",
          "text": [
            "the percentage increase in profits for segment 134: count    428.000000\n",
            "mean       0.050489\n",
            "std        0.138962\n",
            "min       -0.221904\n",
            "25%       -0.054208\n",
            "50%        0.011052\n",
            "75%        0.167031\n",
            "max        0.424241\n",
            "Name: difference, dtype: float64\n",
            "the percentage increase in profits for segment 27: count    286.000000\n",
            "mean       0.236876\n",
            "std        0.252377\n",
            "min       -0.163370\n",
            "25%        0.055917\n",
            "50%        0.180575\n",
            "75%        0.331338\n",
            "max        1.188589\n",
            "Name: difference, dtype: float64\n",
            "the percentage increase in profits for segment 5: count    142.000000\n",
            "mean       0.028922\n",
            "std        0.060703\n",
            "min       -0.099488\n",
            "25%       -0.016891\n",
            "50%        0.028115\n",
            "75%        0.062410\n",
            "max        0.202199\n",
            "Name: difference, dtype: float64\n",
            "the percentage increase in profits for segment 6: count    144.000000\n",
            "mean       0.109657\n",
            "std        0.127753\n",
            "min       -0.138019\n",
            "25%        0.013375\n",
            "50%        0.107282\n",
            "75%        0.174946\n",
            "max        0.536765\n",
            "Name: difference, dtype: float64\n",
            "the percentage increase in profits overall count    1000.000000\n",
            "mean        0.109253\n",
            "std         0.190632\n",
            "min        -0.221904\n",
            "25%        -0.018948\n",
            "50%         0.060787\n",
            "75%         0.198909\n",
            "max         1.188589\n",
            "Name: difference, dtype: float64\n"
          ]
        }
      ]
    },
    {
      "cell_type": "markdown",
      "source": [
        "From this we can conclude that with the proposed increment in price we can achieve overall a 10% increase in profits. This depends on the segment though. For days 2 and 7, this increase reaches 20%! For other days though the story looks different, e.g. for day 5 the increase is only 3%. In fact, if we separate day 1 from day 3 and 4 we get:"
      ],
      "metadata": {
        "id": "XTFi3Co0A6xM"
      }
    },
    {
      "cell_type": "code",
      "source": [
        "print('the percentage increase in profits for segment 34:',fullData[(fullData['weekday']== 3) | (fullData['weekday']== 4)]['difference'].describe())\n",
        "print('the percentage increase in profits for segment 1:',fullData[(fullData['weekday']== 1) ]['difference'].describe())\n"
      ],
      "metadata": {
        "colab": {
          "base_uri": "https://localhost:8080/"
        },
        "id": "8e2r637vCVfh",
        "outputId": "b658cbe9-6cc0-4847-a455-c05b05077085"
      },
      "execution_count": null,
      "outputs": [
        {
          "output_type": "stream",
          "name": "stdout",
          "text": [
            "the percentage increase in profits for segment 34: count    284.000000\n",
            "mean       0.091896\n",
            "std        0.143032\n",
            "min       -0.144912\n",
            "25%       -0.039708\n",
            "50%        0.062541\n",
            "75%        0.211015\n",
            "max        0.424241\n",
            "Name: difference, dtype: float64\n",
            "the percentage increase in profits for segment 1: count    144.000000\n",
            "mean      -0.031176\n",
            "std        0.083982\n",
            "min       -0.221904\n",
            "25%       -0.095104\n",
            "50%       -0.032928\n",
            "75%        0.021509\n",
            "max        0.230648\n",
            "Name: difference, dtype: float64\n"
          ]
        }
      ]
    },
    {
      "cell_type": "markdown",
      "source": [
        "It seems that day 3 and 4 reaches a 9% increase (and we haven't even recalculated the coefficients)....while day 1 is actually underperforming. Given this evidence I conclude that probably I could have segmented the days 1 and 5 togather, and should have considered them as days where the price is quite inelastic.\n",
        "\n",
        "One could repeat this analysis with the other segmentation, but this is easy to do so I'll skip it for now, as this was more an exercise in thinking and interpreting a dataset."
      ],
      "metadata": {
        "id": "_T6KPmY-DAbo"
      }
    },
    {
      "cell_type": "markdown",
      "source": [
        "#Stuff that I would have done differently\n",
        "\n",
        "If I could do this again I would probably split the set into a training and testing set, and then use those to score the linear models and the expected price. Another minor thing that I noticed is that I didn't look at the p-values of the coefficients of the multiple linear reagression. That might have been useful for segmentation purposes.\n",
        "\n",
        "I found the segments \"by hand\", by looking at the various differences in the graphs presented above. This is a bit ugly and probably there exist clustering methods that could achieve this automatically. Maybe one could run just a single linear model with also the weekday as a categorical variable. Another option is to consider all the possible combinations made of 4 out of 14 segmentations, this should be the stirling numbers of possible groups of segmentations, and should be around 10 million (if my combinatorics is correct, which often isn't!). Then one could run a linear model on all of them and get the best ones. This could take much more compute time but it should be doable in principle.\n",
        "\n",
        "The last analysis done on the represented profits is a bit imprecise, and maybe it is assuming too much. There could be an effect of the day on the correlation between the represented profit and the profit (maybe different shares of products are bought on different days). Also there could be effects due to the differen products having different elasticity. So there could be better ways by maybe transforming the orders in percentage increase in orders, or maybe by using the profits by order column.\n",
        "\n",
        "When creating the represented profit, I could have done something more complex, like representing it as a sum of A + B, where A and B are the prices of two products. Then by varying the initial prices A and B I could have tried to find the prices such that the correlation between the profit and the represented profit was highest. Yet the shares of A and B are also unknown, so this problem is really hard without some further assumptions about the distribution of the prices or the shares.\n",
        "\n"
      ],
      "metadata": {
        "id": "myIDlwZmAbMk"
      }
    }
  ]
}